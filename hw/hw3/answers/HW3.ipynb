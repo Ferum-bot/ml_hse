{
  "cells": [
    {
      "cell_type": "markdown",
      "metadata": {
        "id": "s3v5HIUdDvY5"
      },
      "source": [
        "# HSE 2021: Mathematical Methods for Data Analysis\n",
        "\n",
        "## Homework 3\n",
        "\n",
        "**Warning 1**: some problems require (especially the lemmatization part) significant amount of time, so **it is better to start early (!)**\n",
        "\n",
        "**Warning 2**: it is critical to describe and explain what you are doing and why, use markdown cells"
      ]
    },
    {
      "cell_type": "code",
      "execution_count": 2,
      "metadata": {
        "id": "F7t9dYtdDvZC"
      },
      "outputs": [],
      "source": [
        "from typing import Tuple, List\n",
        "\n",
        "import matplotlib.pyplot as plt\n",
        "import numpy as np\n",
        "import pandas as pd\n",
        "import seaborn as sns\n",
        "%matplotlib inline\n",
        "\n",
        "sns.set(style=\"darkgrid\")"
      ]
    },
    {
      "cell_type": "markdown",
      "metadata": {
        "id": "fIHtwV6vDvZD"
      },
      "source": [
        "## PART 1: Logit model"
      ]
    },
    {
      "cell_type": "markdown",
      "metadata": {
        "id": "Q7XKEWcVDvZD"
      },
      "source": [
        "We consider a binary classification problem. For prediction, we would like to use a logistic regression model. For regularization we add a combination of the $l_2$ and $l_1$ penalties (Elastic Net). \n",
        "\n",
        "Each object in the training dataset is indexed with $i$ and described by pair: features $x_i\\in\\mathbb{R}^{K}$ and binary labels $y_i$. The model parametrized with bias $w_0\\in\\mathbb{R}$ and weights $w\\in\\mathbb{R}^K$.\n",
        "\n",
        "The optimization problem with respect to the $w_0, w$ is the following (Elastic Net Loss):\n",
        "\n",
        "$$L(w, w_0) = \\frac{1}{N} \\sum_{i=1}^N \\ln(1+\\exp(-y_i(w^\\top x_i+w_0))) + \\gamma \\|w\\|_1 + \\beta \\|w\\|_2^2$$."
      ]
    },
    {
      "cell_type": "markdown",
      "metadata": {
        "id": "j1eSuDKXFVZu"
      },
      "source": [
        "#### 1. [0.5 points]  Find the gradient of the Elastic Net loss and write its formulas (better in latex format) "
      ]
    },
    {
      "cell_type": "markdown",
      "metadata": {
        "id": "1zjH-YnPDvZD"
      },
      "source": [
        "$$\\nabla_w L(w, w_0)= - \\frac{1}{N} \\cdot \\sum_{ i = 1 } ^ N \\frac{ e ^ { -y_i ( w^Tx_i + w_0 ) } } { 1 + e ^ { -y_i ( w^Tx_i + w_0 ) } } \\cdot y_i  x_i + \\gamma sign(w) + 2 \\beta w $$\n",
        "\n",
        "$$\\nabla_{ w_0 } L(w, w_0)= - \\frac{1}{N} \\cdot \\sum_{ i = 1 } ^ N \\frac{ e ^ { -y_i (w^Tx_i + w_0) } } { 1 + e^{-y_i (w^Tx_i + w_0) } } \\cdot y_i $$"
      ]
    },
    {
      "cell_type": "markdown",
      "metadata": {
        "id": "Q_lIccN_DvZE"
      },
      "source": [
        "#### 2. [0.25 points] Implement the Elastic Net loss (as a function)"
      ]
    },
    {
      "cell_type": "code",
      "execution_count": 27,
      "metadata": {
        "id": "9QNfCtV5DvZE"
      },
      "outputs": [],
      "source": [
        "def loss(X, y, w: List[float], w0: float, gamma=1., beta=1.) -> float:\n",
        "    right = beta * np.linalg.norm(w) + gamma * np.sum(np.abs(w))\n",
        "    left = np.sum(1 + np.exp(-y * np.dot(X, np.transpose(w)) + w0))\n",
        "    return 1. / X.shape[0] * left + right"
      ]
    },
    {
      "cell_type": "markdown",
      "metadata": {
        "id": "fIVoC6UmDvZE"
      },
      "source": [
        "#### 3. [0.25 points] Implement the gradient (as a function)"
      ]
    },
    {
      "cell_type": "code",
      "execution_count": 26,
      "metadata": {
        "id": "HWqBLGRADvZE"
      },
      "outputs": [],
      "source": [
        "def get_grad(X, y, w: List[float], w0: float, gamma=1., beta=1.) -> Tuple[List[float], float]:\n",
        "    left = np.exp(-y * (np.dot(X, (np.transpose(w))) + w0))\n",
        "    right = left + 1\n",
        "    res = left / right * y \n",
        "    grad_w0 = -1. / X.shape[0] * np.sum(res)\n",
        "    grad_w = -1. / X.shape[0] * np.dot(res, X) + gamma * np.sign(w) + 2 * beta * w\n",
        "    \n",
        "    return grad_w, grad_w0"
      ]
    },
    {
      "cell_type": "markdown",
      "metadata": {
        "id": "BhOb8HrtDvZF"
      },
      "source": [
        "#### Check yourself"
      ]
    },
    {
      "cell_type": "code",
      "execution_count": 28,
      "metadata": {
        "id": "3FxXTocHDvZF"
      },
      "outputs": [],
      "source": [
        "np.random.seed(42)\n",
        "X = np.random.multivariate_normal(np.arange(5), np.eye(5), size=10)\n",
        "y = np.random.binomial(1, 0.42, size=10)\n",
        "w, w0 = np.random.normal(size=5), np.random.normal()\n",
        "\n",
        "grad_w, grad_w0 = get_grad(X, y, w, w0)\n",
        "assert(np.allclose(grad_w,\n",
        "                   [-2.73262076, -1.87176281, 1.30051144, 2.53598941, -2.71198109],\n",
        "                   rtol=1e-2) & \\\n",
        "       np.allclose(grad_w0,\n",
        "                   -0.2078231418067844, \n",
        "                   rtol=1e-2)\n",
        ")"
      ]
    },
    {
      "cell_type": "markdown",
      "metadata": {
        "id": "LbqLfcrRDvZF"
      },
      "source": [
        "####  4. [1 point]  Implement gradient descent which works for both tol level and max_iter stop criteria and plot the decision boundary of the result"
      ]
    },
    {
      "cell_type": "markdown",
      "metadata": {
        "id": "iIgiwQkjDvZF"
      },
      "source": [
        "The template provides basic sklearn API class. You are free to modify it in any convenient way."
      ]
    },
    {
      "cell_type": "code",
      "execution_count": 29,
      "metadata": {
        "id": "Thyeux0KDvZG"
      },
      "outputs": [],
      "source": [
        "from sklearn.base import BaseEstimator, ClassifierMixin"
      ]
    },
    {
      "cell_type": "code",
      "execution_count": 53,
      "metadata": {
        "id": "erVmNR0PDvZG"
      },
      "outputs": [],
      "source": [
        "class Logit(BaseEstimator, ClassifierMixin):\n",
        "    def __init__(self, beta=1.0, gamma=1.0, lr=1e-2, tolerance=1e-8, max_iter=1000, random_state=42):\n",
        "        self.beta = beta        \n",
        "        self.gamma = gamma\n",
        "        self.tolerance= tolerance\n",
        "        self.max_iter= max_iter\n",
        "        self.learning_rate = lr\n",
        "        self.random_state = random_state\n",
        "        \n",
        "        self.loss_history = []\n",
        "        self.w0 = 1\n",
        "\n",
        "        self.__setRandom()\n",
        "    \n",
        "        \n",
        "    def fit(self, X, y):\n",
        "        self.w = np.ones(X.shape[1])\n",
        "        \n",
        "        for i in range(self.max_iter):\n",
        "            current_loss = loss(X, y, self.w, self.w0, gamma=self.gamma, beta=self.beta)\n",
        "            self.loss_history.append(current_loss)\n",
        "            grad_w, grad_w0 = get_grad(X, y, self.w, self.w0, gamma=self.gamma, beta=self.beta)\n",
        "\n",
        "            dest = self.w - self.learning_rate * grad_w - self.w\n",
        "            if np.linalg.norm(dest) < self.tolerance:\n",
        "                break\n",
        "                \n",
        "            self.w -= self.learning_rate * grad_w\n",
        "            self.w0 -= self.learning_rate * grad_w0\n",
        "            \n",
        "        return self\n",
        "    \n",
        "    \n",
        "    def predict(self, X):\n",
        "        proba = self.predict_proba(X)[1,:] < 0.5\n",
        "        return np.where(proba, -1, 1)\n",
        "    \n",
        "\n",
        "    def predict_proba(self, X):\n",
        "        first = 1 / (1 + np.exp(np.dot(X, self.w) + self.w0))\n",
        "        second = 1 / (1 + np.exp(-np.dot(X, self.w) - self.w0))\n",
        "        return np.array([first, second])\n",
        "        \n",
        "    def __setRandom(self):\n",
        "        np.random.seed(self.random_state)  "
      ]
    },
    {
      "cell_type": "code",
      "execution_count": 54,
      "metadata": {
        "id": "7SJX8Y6EDvZG"
      },
      "outputs": [],
      "source": [
        "# sample data to test your model\n",
        "from sklearn.datasets import make_classification\n",
        "X, y = make_classification(n_samples=180, n_features=2, n_redundant=0, n_informative=2,\n",
        "                               random_state=42, n_clusters_per_class=1)"
      ]
    },
    {
      "cell_type": "code",
      "execution_count": 55,
      "metadata": {
        "id": "u41kzwGTDvZH"
      },
      "outputs": [],
      "source": [
        "# a function to plot the decision boundary\n",
        "def plot_decision_boundary(model, X, y):\n",
        "    fig = plt.figure()\n",
        "    X1min, X2min = X.min(axis=0)\n",
        "    X1max, X2max = X.max(axis=0)\n",
        "    x1, x2 = np.meshgrid(np.linspace(X1min, X1max, 200),\n",
        "                         np.linspace(X2min, X2max, 200))\n",
        "    ypred = model.predict(np.c_[x1.ravel(), x2.ravel()])\n",
        "    ypred = ypred.reshape(x1.shape)\n",
        "    \n",
        "    plt.contourf(x1, x2, ypred, alpha=.4)\n",
        "    plt.scatter(X[:,0], X[:,1], c=y)"
      ]
    },
    {
      "cell_type": "code",
      "execution_count": 56,
      "metadata": {
        "id": "mNuYbsAoDvZI",
        "colab": {
          "base_uri": "https://localhost:8080/",
          "height": 268
        },
        "outputId": "456232e7-4f49-49f6-8bb7-5063e8671969"
      },
      "outputs": [
        {
          "output_type": "display_data",
          "data": {
            "text/plain": [
              "<Figure size 432x288 with 1 Axes>"
            ],
            "image/png": "[encoded data removed]"
          },
          "metadata": {}
        }
      ],
      "source": [
        "model = Logit(0,0)\n",
        "y[y == 0] = -1\n",
        "model.fit(X, y)\n",
        "plot_decision_boundary(model, X, y)"
      ]
    },
    {
      "cell_type": "markdown",
      "metadata": {
        "id": "Qi4WRhcADvZI"
      },
      "source": [
        "#### 5. [0.25 points] Plot loss diagram for the model, i.e. show the dependence of the loss function from the gradient descent steps"
      ]
    },
    {
      "cell_type": "code",
      "execution_count": 57,
      "metadata": {
        "id": "VyjMDAKuDvZI",
        "colab": {
          "base_uri": "https://localhost:8080/",
          "height": 268
        },
        "outputId": "9f8b8597-f288-4abb-8886-f27d88e27998"
      },
      "outputs": [
        {
          "output_type": "display_data",
          "data": {
            "text/plain": [
              "<Figure size 432x288 with 1 Axes>"
            ],
            "image/png": "[encoded data removed]"
          },
          "metadata": {}
        }
      ],
      "source": [
        "plt.plot(model.loss_history)\n",
        "plt.show()"
      ]
    },
    {
      "cell_type": "markdown",
      "metadata": {
        "id": "0FhSCAv_DvZJ"
      },
      "source": [
        "## PART 2: Support Vector Machines"
      ]
    },
    {
      "cell_type": "markdown",
      "metadata": {
        "id": "lYyGsSxEDvZJ"
      },
      "source": [
        "#### 6. [2 point] Using the same dataset, train SVM Classifier from Sklearn.\n",
        "Investigate how different parameters influence the quality of the solution:\n",
        "+ Try several kernels: Linear, Polynomial, RBF (and others if you wish). Some Kernels have hypermeters: don't forget to try different.\n",
        "+ Regularization coefficient \n",
        "\n",
        "Show how these parameters affect accuracy, roc_auc and f1 score. \n",
        "Make plots for the dependencies between metrics and parameters. \n",
        "Try to formulate conclusions from the observations. How sensitive are kernels to hyperparameters? How sensitive is a solution to the regularization? Which kernel is prone to overfitting?"
      ]
    },
    {
      "cell_type": "code",
      "execution_count": 62,
      "metadata": {
        "id": "Nicu_O3IDvZK",
        "colab": {
          "base_uri": "https://localhost:8080/",
          "height": 818
        },
        "outputId": "edd5465f-a50a-47cf-eacf-37ad96b05991"
      },
      "outputs": [
        {
          "output_type": "display_data",
          "data": {
            "text/plain": [
              "<Figure size 432x288 with 1 Axes>"
            ],
            "image/png": "[encoded data removed]"
          },
          "metadata": {}
        },
        {
          "output_type": "display_data",
          "data": {
            "text/plain": [
              "<Figure size 432x288 with 1 Axes>"
            ],
            "image/png": "[encoded data removed]"
          },
          "metadata": {}
        },
        {
          "output_type": "display_data",
          "data": {
            "text/plain": [
              "<Figure size 432x288 with 1 Axes>"
            ],
            "image/png": "[encoded data removed]"
          },
          "metadata": {}
        }
      ],
      "source": [
        "from sklearn.model_selection import train_test_split\n",
        "from sklearn.svm import SVC\n",
        "from sklearn.metrics import accuracy_score, roc_auc_score, f1_score\n",
        "\n",
        "# Initialize data\n",
        "linspace = np.linspace(0.01, 10, 100)\n",
        "\n",
        "kernels = ['linear', 'poly', 'rbf']\n",
        "\n",
        "accuracy_score_result = [ ]\n",
        "roc_auc_score_result = [ ]\n",
        "f1_score_result = [ ]\n",
        "\n",
        "# Split dataset\n",
        "X_dataset_train, X_dataset_test, Y_dataset_train, Y_dataset_test = train_test_split(X, y, test_size=0.4, random_state=2)\n",
        "\n",
        "\n",
        "# Train and predict \n",
        "for i in range(0, 3):\n",
        "    accuracy_score_result.append([ ])\n",
        "    roc_auc_score_result.append([ ])\n",
        "    f1_score_result.append([ ])\n",
        "\n",
        "    for value in linspace:\n",
        "        clf = SVC(kernel = kernels[i], C = value)\n",
        "        clf.fit(X_dataset_train, Y_dataset_train)\n",
        "        Y_predict = clf.predict(X_dataset_test)\n",
        "\n",
        "        accuracy_score_result[i].append(accuracy_score(Y_dataset_test, Y_predict))\n",
        "        roc_auc_score_result[i].append(roc_auc_score(Y_dataset_test, Y_predict))\n",
        "        f1_score_result[i].append(f1_score(Y_dataset_test, Y_predict))\n",
        "\n",
        "# Accuracy metrics\n",
        "for i in range(0, 3):\n",
        "    plt.plot(accuracy_score_result[i], label = kernels[i])\n",
        "\n",
        "plt.legend()\n",
        "plt.title('Accuracy metrics')\n",
        "plt.show()\n",
        "\n",
        "# Roc auc metrics\n",
        "for i in range(0, 3):\n",
        "    plt.plot(roc_auc_score_result[i], label = kernels[i])\n",
        "\n",
        "plt.legend()\n",
        "plt.title('Roc auc metrics')\n",
        "plt.show()\n",
        "\n",
        "# F1 metrics\n",
        "for i in range(0, 3):\n",
        "    plt.plot(f1_score_result[i], label = kernels[i])\n",
        "\n",
        "plt.legend()\n",
        "plt.title('F1 metrics')\n",
        "plt.show()\n",
        "\n"
      ]
    },
    {
      "cell_type": "markdown",
      "metadata": {
        "id": "sY8q6JdCDvZK"
      },
      "source": [
        "## PART 3: Natural Language Processing"
      ]
    },
    {
      "cell_type": "markdown",
      "metadata": {
        "id": "eD4xKhYfDvZK"
      },
      "source": [
        "#### 7. [1.75 point] Form the dataset\n",
        "\n",
        "We are going to form a dataset that we will use in the following tasks for binary and multiclass classification\n",
        "\n",
        "0. Choose **six** authors that you like (specify who you've chosen) and download the <a href=\"https://www.kaggle.com/d0rj3228/russian-literature?select=prose\">relevant data</a> from **prose** section\n",
        "1. Build your own dataset for these authors: \n",
        "    * divide each text into sentences such that we will have two columns: *sentence* and *target author*, each row will contain one sentence and one target\n",
        "    * drop sentences where N symbols in a sentence < 15\n",
        "    * fix random state and randomly choose sentences in the folowing proportion \"5k : 15k : 8k : 11k : 20k : 3k\" for the authors respectively\n",
        "    \n",
        "    sample data may look like:\n",
        "    \n",
        "    <center> \n",
        "    <table>\n",
        "        <tr>\n",
        "            <th> sentence </th>\n",
        "            <th> author </th>\n",
        "        </tr> \n",
        "        <tr><td> Несколько лет тому назад в одном из своих поместий жил старинный русской барин, Кирила Петрович Троекуров. </td><td> Пушкин </td><td> \n",
        "        <tr><td> Уже более недели приезжий господин жил в городе, разъезжая по вечеринкам и обедам и таким образом проводя, как говорится, очень приятно время. </td><td> Гоголь </td><td> \n",
        "        <tr><td> ... </td><td> ... </td><td> \n",
        "        <tr><td> Я жил недорослем, гоняя голубей и играя в чехарду с дворовыми мальчишками. </td><td> Пушкин </td><td>         \n",
        "    </table>\n",
        "</center>\n",
        "     \n",
        "2. Preprocess (tokenize and clean) the dataset \n",
        "    * tokenize, remove all stop words (nltk.corpus.stopwords), punctuation (string.punctuation) and numbers\n",
        "    * convert to lower case and apply either stemming or lemmatization of the words (on your choice)\n",
        "    * vectorize words using both **bag of words** and **tf-idf** (use sklearn)\n",
        "    * observe and describe the difference between vectorized output (what do numbers look like after transformations and what do they represent?)"
      ]
    },
    {
      "cell_type": "code",
      "source": [
        "!pip install pymorphy2\n",
        "import pymorphy2\n",
        "import tqdm\n",
        "import glob\n",
        "import nltk\n",
        "import string \n",
        "from sklearn.utils import shuffle\n",
        "import numpy as np\n",
        "import random\n",
        "import pandas as pd\n",
        "from nltk import tokenize, download\n",
        "\n",
        "download('punkt')\n",
        "download('stopwords')\n",
        "\n",
        "from google.colab import drive\n",
        "drive.mount('/content/gdrive', force_remount=True)"
      ],
      "metadata": {
        "colab": {
          "base_uri": "https://localhost:8080/"
        },
        "id": "O7vbBi1Meqby",
        "outputId": "782083a1-1799-4f95-91ae-da6d544a310f"
      },
      "execution_count": 69,
      "outputs": [
        {
          "output_type": "stream",
          "name": "stdout",
          "text": [
            "Looking in indexes: https://pypi.org/simple, https://us-python.pkg.dev/colab-wheels/public/simple/\n",
            "Requirement already satisfied: pymorphy2 in /usr/local/lib/python3.7/dist-packages (0.9.1)\n",
            "Requirement already satisfied: pymorphy2-dicts-ru<3.0,>=2.4 in /usr/local/lib/python3.7/dist-packages (from pymorphy2) (2.4.417127.4579844)\n",
            "Requirement already satisfied: dawg-python>=0.7.1 in /usr/local/lib/python3.7/dist-packages (from pymorphy2) (0.7.2)\n",
            "Requirement already satisfied: docopt>=0.6 in /usr/local/lib/python3.7/dist-packages (from pymorphy2) (0.6.2)\n"
          ]
        },
        {
          "output_type": "stream",
          "name": "stderr",
          "text": [
            "[nltk_data] Downloading package punkt to /root/nltk_data...\n",
            "[nltk_data]   Package punkt is already up-to-date!\n",
            "[nltk_data] Downloading package stopwords to /root/nltk_data...\n",
            "[nltk_data]   Package stopwords is already up-to-date!\n"
          ]
        },
        {
          "output_type": "stream",
          "name": "stdout",
          "text": [
            "Mounted at /content/gdrive\n"
          ]
        }
      ]
    },
    {
      "cell_type": "code",
      "execution_count": 73,
      "metadata": {
        "id": "NVStbeQ8DvZL",
        "colab": {
          "base_uri": "https://localhost:8080/",
          "height": 137
        },
        "outputId": "0f36289f-1023-4984-dbe3-d52043c18031"
      },
      "outputs": [
        {
          "output_type": "display_data",
          "data": {
            "text/plain": [
              "'Block 421'"
            ],
            "application/vnd.google.colaboratory.intrinsic+json": {
              "type": "string"
            }
          },
          "metadata": {}
        },
        {
          "output_type": "display_data",
          "data": {
            "text/plain": [
              "'Bryusov 24320'"
            ],
            "application/vnd.google.colaboratory.intrinsic+json": {
              "type": "string"
            }
          },
          "metadata": {}
        },
        {
          "output_type": "display_data",
          "data": {
            "text/plain": [
              "'Chekhov 21920'"
            ],
            "application/vnd.google.colaboratory.intrinsic+json": {
              "type": "string"
            }
          },
          "metadata": {}
        },
        {
          "output_type": "display_data",
          "data": {
            "text/plain": [
              "'Dostoevsky 112349'"
            ],
            "application/vnd.google.colaboratory.intrinsic+json": {
              "type": "string"
            }
          },
          "metadata": {}
        },
        {
          "output_type": "display_data",
          "data": {
            "text/plain": [
              "'Gogol 23793'"
            ],
            "application/vnd.google.colaboratory.intrinsic+json": {
              "type": "string"
            }
          },
          "metadata": {}
        },
        {
          "output_type": "display_data",
          "data": {
            "text/plain": [
              "'Gorky 45846'"
            ],
            "application/vnd.google.colaboratory.intrinsic+json": {
              "type": "string"
            }
          },
          "metadata": {}
        }
      ],
      "source": [
        "prose_location = 'https://drive.google.com/drive/folders/1cuBdgy8GgXsHC31SZTjNfMpEVAJ9Ewed?usp=share_link'\n",
        "text_link = '/content/gdrive/MyDrive/poems/'\n",
        "authors = ['Block', 'Bryusov', 'Chekhov', 'Dostoevsky', 'Gogol', 'Gorky']\n",
        "sentences = []\n",
        "\n",
        "def getSentencesFromFile(file):\n",
        "    with open(file, 'r', encoding='utf8') as f:\n",
        "        sentences = []\n",
        "        for s in tokenize.sent_tokenize(f.read()):\n",
        "            if(len(s.replace('\\n', '')) > 14):\n",
        "                sentences.append(s)\n",
        "        return sentences\n",
        "\n",
        "for i in range(len(authors)):\n",
        "    current_sentences = []\n",
        "    author_file = text_link + authors[i] + '/*.txt'\n",
        "    for file in glob.glob(author_file):\n",
        "        current_sentences += getSentencesFromFile(file)\n",
        "\n",
        "    sentences.append(current_sentences)\n",
        "    display(authors[i] + ' ' + str(len(current_sentences)))\n"
      ]
    },
    {
      "cell_type": "code",
      "source": [
        "k = 10\n",
        "rates = [5 * k, 15 * k, 8 * k, 11 * k, 20 * k, 3 * k]\n",
        "for i in range(len(sentences)):\n",
        "    sentences[i] = sentences[i][:(rates[i])]\n",
        "    display(len(sentences[i]))"
      ],
      "metadata": {
        "colab": {
          "base_uri": "https://localhost:8080/",
          "height": 119
        },
        "id": "FNTcQALEiWRm",
        "outputId": "c693e805-6af2-474e-d03a-67cc39d9c0b4"
      },
      "execution_count": 80,
      "outputs": [
        {
          "output_type": "display_data",
          "data": {
            "text/plain": [
              "50"
            ]
          },
          "metadata": {}
        },
        {
          "output_type": "display_data",
          "data": {
            "text/plain": [
              "150"
            ]
          },
          "metadata": {}
        },
        {
          "output_type": "display_data",
          "data": {
            "text/plain": [
              "80"
            ]
          },
          "metadata": {}
        },
        {
          "output_type": "display_data",
          "data": {
            "text/plain": [
              "110"
            ]
          },
          "metadata": {}
        },
        {
          "output_type": "display_data",
          "data": {
            "text/plain": [
              "200"
            ]
          },
          "metadata": {}
        },
        {
          "output_type": "display_data",
          "data": {
            "text/plain": [
              "30"
            ]
          },
          "metadata": {}
        }
      ]
    },
    {
      "cell_type": "code",
      "source": [
        "union_sentences = []\n",
        "for i in range(len(authors)):\n",
        "  for sentence in sentences[i]:\n",
        "    union_sentences.append((authors[i], sentence))\n",
        "\n",
        "np.random.shuffle(union_sentences)\n",
        "dataset = pd.DataFrame(union_sentences, columns = ['Author', 'Sentence'])\n",
        "dataset"
      ],
      "metadata": {
        "colab": {
          "base_uri": "https://localhost:8080/",
          "height": 419
        },
        "id": "DpQHgK0kmDNt",
        "outputId": "efc783ba-7627-4787-fad3-99579c639bac"
      },
      "execution_count": 81,
      "outputs": [
        {
          "output_type": "execute_result",
          "data": {
            "text/plain": [
              "         Author                                           Sentence\n",
              "0       Chekhov  Один из них живет в Париже, два докторами, чет...\n",
              "1         Gogol  Большая разъехавшаяся хата, в которой помещала...\n",
              "2       Bryusov                            I\\n \\n  \\n       - Она!\n",
              "3         Gogol  Старуха мелким, дробным шагом побежала так быс...\n",
              "4    Dostoevsky  Не люблю, когда при одном лишь общем образован...\n",
              "..          ...                                                ...\n",
              "615     Bryusov  Анна Николаевна  думала  о\\n  рельефных ангело...\n",
              "616     Bryusov  Потом Каролина Густавовна высчитала, что выруч...\n",
              "617       Gogol  Как же можно, чтобы христианские души пропали ...\n",
              "618       Gogol  — Да народ необидчивый: богослов Халява, филос...\n",
              "619       Gogol  Густая трава касалась его, и уже он не видел в...\n",
              "\n",
              "[620 rows x 2 columns]"
            ],
            "text/html": [
              "\n",
              "  <div id=\"df-2046f6e7-40ea-48eb-b2f2-fc1f8e117542\">\n",
              "    <div class=\"colab-df-container\">\n",
              "      <div>\n",
              "<style scoped>\n",
              "    .dataframe tbody tr th:only-of-type {\n",
              "        vertical-align: middle;\n",
              "    }\n",
              "\n",
              "    .dataframe tbody tr th {\n",
              "        vertical-align: top;\n",
              "    }\n",
              "\n",
              "    .dataframe thead th {\n",
              "        text-align: right;\n",
              "    }\n",
              "</style>\n",
              "<table border=\"1\" class=\"dataframe\">\n",
              "  <thead>\n",
              "    <tr style=\"text-align: right;\">\n",
              "      <th></th>\n",
              "      <th>Author</th>\n",
              "      <th>Sentence</th>\n",
              "    </tr>\n",
              "  </thead>\n",
              "  <tbody>\n",
              "    <tr>\n",
              "      <th>0</th>\n",
              "      <td>Chekhov</td>\n",
              "      <td>Один из них живет в Париже, два докторами, чет...</td>\n",
              "    </tr>\n",
              "    <tr>\n",
              "      <th>1</th>\n",
              "      <td>Gogol</td>\n",
              "      <td>Большая разъехавшаяся хата, в которой помещала...</td>\n",
              "    </tr>\n",
              "    <tr>\n",
              "      <th>2</th>\n",
              "      <td>Bryusov</td>\n",
              "      <td>I\\n \\n  \\n       - Она!</td>\n",
              "    </tr>\n",
              "    <tr>\n",
              "      <th>3</th>\n",
              "      <td>Gogol</td>\n",
              "      <td>Старуха мелким, дробным шагом побежала так быс...</td>\n",
              "    </tr>\n",
              "    <tr>\n",
              "      <th>4</th>\n",
              "      <td>Dostoevsky</td>\n",
              "      <td>Не люблю, когда при одном лишь общем образован...</td>\n",
              "    </tr>\n",
              "    <tr>\n",
              "      <th>...</th>\n",
              "      <td>...</td>\n",
              "      <td>...</td>\n",
              "    </tr>\n",
              "    <tr>\n",
              "      <th>615</th>\n",
              "      <td>Bryusov</td>\n",
              "      <td>Анна Николаевна  думала  о\\n  рельефных ангело...</td>\n",
              "    </tr>\n",
              "    <tr>\n",
              "      <th>616</th>\n",
              "      <td>Bryusov</td>\n",
              "      <td>Потом Каролина Густавовна высчитала, что выруч...</td>\n",
              "    </tr>\n",
              "    <tr>\n",
              "      <th>617</th>\n",
              "      <td>Gogol</td>\n",
              "      <td>Как же можно, чтобы христианские души пропали ...</td>\n",
              "    </tr>\n",
              "    <tr>\n",
              "      <th>618</th>\n",
              "      <td>Gogol</td>\n",
              "      <td>— Да народ необидчивый: богослов Халява, филос...</td>\n",
              "    </tr>\n",
              "    <tr>\n",
              "      <th>619</th>\n",
              "      <td>Gogol</td>\n",
              "      <td>Густая трава касалась его, и уже он не видел в...</td>\n",
              "    </tr>\n",
              "  </tbody>\n",
              "</table>\n",
              "<p>620 rows × 2 columns</p>\n",
              "</div>\n",
              "      <button class=\"colab-df-convert\" onclick=\"convertToInteractive('df-2046f6e7-40ea-48eb-b2f2-fc1f8e117542')\"\n",
              "              title=\"Convert this dataframe to an interactive table.\"\n",
              "              style=\"display:none;\">\n",
              "        \n",
              "  <svg xmlns=\"http://www.w3.org/2000/svg\" height=\"24px\"viewBox=\"0 0 24 24\"\n",
              "       width=\"24px\">\n",
              "    <path d=\"M0 0h24v24H0V0z\" fill=\"none\"/>\n",
              "    <path d=\"M18.56 5.44l.94 2.06.94-2.06 2.06-.94-2.06-.94-.94-2.06-.94 2.06-2.06.94zm-11 1L8.5 8.5l.94-2.06 2.06-.94-2.06-.94L8.5 2.5l-.94 2.06-2.06.94zm10 10l.94 2.06.94-2.06 2.06-.94-2.06-.94-.94-2.06-.94 2.06-2.06.94z\"/><path d=\"M17.41 7.96l-1.37-1.37c-.4-.4-.92-.59-1.43-.59-.52 0-1.04.2-1.43.59L10.3 9.45l-7.72 7.72c-.78.78-.78 2.05 0 2.83L4 21.41c.39.39.9.59 1.41.59.51 0 1.02-.2 1.41-.59l7.78-7.78 2.81-2.81c.8-.78.8-2.07 0-2.86zM5.41 20L4 18.59l7.72-7.72 1.47 1.35L5.41 20z\"/>\n",
              "  </svg>\n",
              "      </button>\n",
              "      \n",
              "  <style>\n",
              "    .colab-df-container {\n",
              "      display:flex;\n",
              "      flex-wrap:wrap;\n",
              "      gap: 12px;\n",
              "    }\n",
              "\n",
              "    .colab-df-convert {\n",
              "      background-color: #E8F0FE;\n",
              "      border: none;\n",
              "      border-radius: 50%;\n",
              "      cursor: pointer;\n",
              "      display: none;\n",
              "      fill: #1967D2;\n",
              "      height: 32px;\n",
              "      padding: 0 0 0 0;\n",
              "      width: 32px;\n",
              "    }\n",
              "\n",
              "    .colab-df-convert:hover {\n",
              "      background-color: #E2EBFA;\n",
              "      box-shadow: 0px 1px 2px rgba(60, 64, 67, 0.3), 0px 1px 3px 1px rgba(60, 64, 67, 0.15);\n",
              "      fill: #174EA6;\n",
              "    }\n",
              "\n",
              "    [theme=dark] .colab-df-convert {\n",
              "      background-color: #3B4455;\n",
              "      fill: #D2E3FC;\n",
              "    }\n",
              "\n",
              "    [theme=dark] .colab-df-convert:hover {\n",
              "      background-color: #434B5C;\n",
              "      box-shadow: 0px 1px 3px 1px rgba(0, 0, 0, 0.15);\n",
              "      filter: drop-shadow(0px 1px 2px rgba(0, 0, 0, 0.3));\n",
              "      fill: #FFFFFF;\n",
              "    }\n",
              "  </style>\n",
              "\n",
              "      <script>\n",
              "        const buttonEl =\n",
              "          document.querySelector('#df-2046f6e7-40ea-48eb-b2f2-fc1f8e117542 button.colab-df-convert');\n",
              "        buttonEl.style.display =\n",
              "          google.colab.kernel.accessAllowed ? 'block' : 'none';\n",
              "\n",
              "        async function convertToInteractive(key) {\n",
              "          const element = document.querySelector('#df-2046f6e7-40ea-48eb-b2f2-fc1f8e117542');\n",
              "          const dataTable =\n",
              "            await google.colab.kernel.invokeFunction('convertToInteractive',\n",
              "                                                     [key], {});\n",
              "          if (!dataTable) return;\n",
              "\n",
              "          const docLinkHtml = 'Like what you see? Visit the ' +\n",
              "            '<a target=\"_blank\" href=https://colab.research.google.com/notebooks/data_table.ipynb>data table notebook</a>'\n",
              "            + ' to learn more about interactive tables.';\n",
              "          element.innerHTML = '';\n",
              "          dataTable['output_type'] = 'display_data';\n",
              "          await google.colab.output.renderOutput(dataTable, element);\n",
              "          const docLink = document.createElement('div');\n",
              "          docLink.innerHTML = docLinkHtml;\n",
              "          element.appendChild(docLink);\n",
              "        }\n",
              "      </script>\n",
              "    </div>\n",
              "  </div>\n",
              "  "
            ]
          },
          "metadata": {},
          "execution_count": 81
        }
      ]
    },
    {
      "cell_type": "code",
      "source": [
        "stop_words = nltk.corpus.stopwords.words('russian')\n",
        "numbers = [str(x) for x in np.arange(0, 10)]\n",
        "punctuation = string.punctuation + '…' + '–—'\n",
        "forbidden = list(stop_words) + list(numbers) + list(punctuation)\n",
        "word_tokenizer = nltk.WordPunctTokenizer()\n",
        "\n",
        "def adapt(sentence):\n",
        "    lower = sentence.lower()\n",
        "    words = word_tokenizer.tokenize(lower)\n",
        "\n",
        "    adapted = []\n",
        "    for word in words:\n",
        "        if (word not in forbidden):\n",
        "            adapted.append(word)\n",
        "    return ' '.join(adapted)\n",
        "\n",
        "\n",
        "def normalize(sentence):\n",
        "    words = sentence.split(' ')\n",
        "    normalized = []\n",
        "    for word in words:\n",
        "        normal = pymorphy2.MorphAnalyzer().parse(word)[0].normal_form\n",
        "        normalized.append(normal)\n",
        "    return ' '.join(normalized)\n",
        "\n",
        "\n",
        "dataset['Adapted'] = dataset['Sentence'].apply(adapt)\n",
        "dataset['Normalized'] = dataset['Adapted'].apply(normalize)\n",
        "dataset"
      ],
      "metadata": {
        "colab": {
          "base_uri": "https://localhost:8080/",
          "height": 616
        },
        "id": "fQaPJdmgo3pM",
        "outputId": "76539f33-7006-473c-f1d5-62b0ab10867a"
      },
      "execution_count": 82,
      "outputs": [
        {
          "output_type": "execute_result",
          "data": {
            "text/plain": [
              "         Author                                           Sentence  \\\n",
              "0       Chekhov  Один из них живет в Париже, два докторами, чет...   \n",
              "1         Gogol  Большая разъехавшаяся хата, в которой помещала...   \n",
              "2       Bryusov                            I\\n \\n  \\n       - Она!   \n",
              "3         Gogol  Старуха мелким, дробным шагом побежала так быс...   \n",
              "4    Dostoevsky  Не люблю, когда при одном лишь общем образован...   \n",
              "..          ...                                                ...   \n",
              "615     Bryusov  Анна Николаевна  думала  о\\n  рельефных ангело...   \n",
              "616     Bryusov  Потом Каролина Густавовна высчитала, что выруч...   \n",
              "617       Gogol  Как же можно, чтобы христианские души пропали ...   \n",
              "618       Gogol  — Да народ необидчивый: богослов Халява, филос...   \n",
              "619       Gogol  Густая трава касалась его, и уже он не видел в...   \n",
              "\n",
              "                                               Adapted  \\\n",
              "0    живет париже докторами четвертый художник пяты...   \n",
              "1    большая разъехавшаяся хата которой помещалась ...   \n",
              "2                                                    i   \n",
              "3    старуха мелким дробным шагом побежала быстро в...   \n",
              "4    люблю одном лишь общем образовании суются разр...   \n",
              "..                                                 ...   \n",
              "615  анна николаевна думала рельефных ангелочках ка...   \n",
              "616  каролина густавовна высчитала выручка каждым м...   \n",
              "617                          христианские души пропали   \n",
              "618  народ необидчивый богослов халява философ брут...   \n",
              "619        густая трава касалась видел необыкновенного   \n",
              "\n",
              "                                            Normalized  \n",
              "0    жить париж доктор четвёртый художник пятый гов...  \n",
              "1    больший разъехаться хата который помещаться бу...  \n",
              "2                                                    i  \n",
              "3    старуха мелкий дробный шаг побежать быстро вса...  \n",
              "4    любить один лишь общий образование соваться ра...  \n",
              "..                                                 ...  \n",
              "615  анна николаевич думать рельефный ангелочек кач...  \n",
              "616  каролина густавович высчитать выручка каждый м...  \n",
              "617                         христианский душа пропасть  \n",
              "618  народ необидчивый богослов халява философ брут...  \n",
              "619        густой трава касаться видеть необыкновенный  \n",
              "\n",
              "[620 rows x 4 columns]"
            ],
            "text/html": [
              "\n",
              "  <div id=\"df-ac7ef5b9-541a-46d5-9d7e-221b91a6722e\">\n",
              "    <div class=\"colab-df-container\">\n",
              "      <div>\n",
              "<style scoped>\n",
              "    .dataframe tbody tr th:only-of-type {\n",
              "        vertical-align: middle;\n",
              "    }\n",
              "\n",
              "    .dataframe tbody tr th {\n",
              "        vertical-align: top;\n",
              "    }\n",
              "\n",
              "    .dataframe thead th {\n",
              "        text-align: right;\n",
              "    }\n",
              "</style>\n",
              "<table border=\"1\" class=\"dataframe\">\n",
              "  <thead>\n",
              "    <tr style=\"text-align: right;\">\n",
              "      <th></th>\n",
              "      <th>Author</th>\n",
              "      <th>Sentence</th>\n",
              "      <th>Adapted</th>\n",
              "      <th>Normalized</th>\n",
              "    </tr>\n",
              "  </thead>\n",
              "  <tbody>\n",
              "    <tr>\n",
              "      <th>0</th>\n",
              "      <td>Chekhov</td>\n",
              "      <td>Один из них живет в Париже, два докторами, чет...</td>\n",
              "      <td>живет париже докторами четвертый художник пяты...</td>\n",
              "      <td>жить париж доктор четвёртый художник пятый гов...</td>\n",
              "    </tr>\n",
              "    <tr>\n",
              "      <th>1</th>\n",
              "      <td>Gogol</td>\n",
              "      <td>Большая разъехавшаяся хата, в которой помещала...</td>\n",
              "      <td>большая разъехавшаяся хата которой помещалась ...</td>\n",
              "      <td>больший разъехаться хата который помещаться бу...</td>\n",
              "    </tr>\n",
              "    <tr>\n",
              "      <th>2</th>\n",
              "      <td>Bryusov</td>\n",
              "      <td>I\\n \\n  \\n       - Она!</td>\n",
              "      <td>i</td>\n",
              "      <td>i</td>\n",
              "    </tr>\n",
              "    <tr>\n",
              "      <th>3</th>\n",
              "      <td>Gogol</td>\n",
              "      <td>Старуха мелким, дробным шагом побежала так быс...</td>\n",
              "      <td>старуха мелким дробным шагом побежала быстро в...</td>\n",
              "      <td>старуха мелкий дробный шаг побежать быстро вса...</td>\n",
              "    </tr>\n",
              "    <tr>\n",
              "      <th>4</th>\n",
              "      <td>Dostoevsky</td>\n",
              "      <td>Не люблю, когда при одном лишь общем образован...</td>\n",
              "      <td>люблю одном лишь общем образовании суются разр...</td>\n",
              "      <td>любить один лишь общий образование соваться ра...</td>\n",
              "    </tr>\n",
              "    <tr>\n",
              "      <th>...</th>\n",
              "      <td>...</td>\n",
              "      <td>...</td>\n",
              "      <td>...</td>\n",
              "      <td>...</td>\n",
              "    </tr>\n",
              "    <tr>\n",
              "      <th>615</th>\n",
              "      <td>Bryusov</td>\n",
              "      <td>Анна Николаевна  думала  о\\n  рельефных ангело...</td>\n",
              "      <td>анна николаевна думала рельефных ангелочках ка...</td>\n",
              "      <td>анна николаевич думать рельефный ангелочек кач...</td>\n",
              "    </tr>\n",
              "    <tr>\n",
              "      <th>616</th>\n",
              "      <td>Bryusov</td>\n",
              "      <td>Потом Каролина Густавовна высчитала, что выруч...</td>\n",
              "      <td>каролина густавовна высчитала выручка каждым м...</td>\n",
              "      <td>каролина густавович высчитать выручка каждый м...</td>\n",
              "    </tr>\n",
              "    <tr>\n",
              "      <th>617</th>\n",
              "      <td>Gogol</td>\n",
              "      <td>Как же можно, чтобы христианские души пропали ...</td>\n",
              "      <td>христианские души пропали</td>\n",
              "      <td>христианский душа пропасть</td>\n",
              "    </tr>\n",
              "    <tr>\n",
              "      <th>618</th>\n",
              "      <td>Gogol</td>\n",
              "      <td>— Да народ необидчивый: богослов Халява, филос...</td>\n",
              "      <td>народ необидчивый богослов халява философ брут...</td>\n",
              "      <td>народ необидчивый богослов халява философ брут...</td>\n",
              "    </tr>\n",
              "    <tr>\n",
              "      <th>619</th>\n",
              "      <td>Gogol</td>\n",
              "      <td>Густая трава касалась его, и уже он не видел в...</td>\n",
              "      <td>густая трава касалась видел необыкновенного</td>\n",
              "      <td>густой трава касаться видеть необыкновенный</td>\n",
              "    </tr>\n",
              "  </tbody>\n",
              "</table>\n",
              "<p>620 rows × 4 columns</p>\n",
              "</div>\n",
              "      <button class=\"colab-df-convert\" onclick=\"convertToInteractive('df-ac7ef5b9-541a-46d5-9d7e-221b91a6722e')\"\n",
              "              title=\"Convert this dataframe to an interactive table.\"\n",
              "              style=\"display:none;\">\n",
              "        \n",
              "  <svg xmlns=\"http://www.w3.org/2000/svg\" height=\"24px\"viewBox=\"0 0 24 24\"\n",
              "       width=\"24px\">\n",
              "    <path d=\"M0 0h24v24H0V0z\" fill=\"none\"/>\n",
              "    <path d=\"M18.56 5.44l.94 2.06.94-2.06 2.06-.94-2.06-.94-.94-2.06-.94 2.06-2.06.94zm-11 1L8.5 8.5l.94-2.06 2.06-.94-2.06-.94L8.5 2.5l-.94 2.06-2.06.94zm10 10l.94 2.06.94-2.06 2.06-.94-2.06-.94-.94-2.06-.94 2.06-2.06.94z\"/><path d=\"M17.41 7.96l-1.37-1.37c-.4-.4-.92-.59-1.43-.59-.52 0-1.04.2-1.43.59L10.3 9.45l-7.72 7.72c-.78.78-.78 2.05 0 2.83L4 21.41c.39.39.9.59 1.41.59.51 0 1.02-.2 1.41-.59l7.78-7.78 2.81-2.81c.8-.78.8-2.07 0-2.86zM5.41 20L4 18.59l7.72-7.72 1.47 1.35L5.41 20z\"/>\n",
              "  </svg>\n",
              "      </button>\n",
              "      \n",
              "  <style>\n",
              "    .colab-df-container {\n",
              "      display:flex;\n",
              "      flex-wrap:wrap;\n",
              "      gap: 12px;\n",
              "    }\n",
              "\n",
              "    .colab-df-convert {\n",
              "      background-color: #E8F0FE;\n",
              "      border: none;\n",
              "      border-radius: 50%;\n",
              "      cursor: pointer;\n",
              "      display: none;\n",
              "      fill: #1967D2;\n",
              "      height: 32px;\n",
              "      padding: 0 0 0 0;\n",
              "      width: 32px;\n",
              "    }\n",
              "\n",
              "    .colab-df-convert:hover {\n",
              "      background-color: #E2EBFA;\n",
              "      box-shadow: 0px 1px 2px rgba(60, 64, 67, 0.3), 0px 1px 3px 1px rgba(60, 64, 67, 0.15);\n",
              "      fill: #174EA6;\n",
              "    }\n",
              "\n",
              "    [theme=dark] .colab-df-convert {\n",
              "      background-color: #3B4455;\n",
              "      fill: #D2E3FC;\n",
              "    }\n",
              "\n",
              "    [theme=dark] .colab-df-convert:hover {\n",
              "      background-color: #434B5C;\n",
              "      box-shadow: 0px 1px 3px 1px rgba(0, 0, 0, 0.15);\n",
              "      filter: drop-shadow(0px 1px 2px rgba(0, 0, 0, 0.3));\n",
              "      fill: #FFFFFF;\n",
              "    }\n",
              "  </style>\n",
              "\n",
              "      <script>\n",
              "        const buttonEl =\n",
              "          document.querySelector('#df-ac7ef5b9-541a-46d5-9d7e-221b91a6722e button.colab-df-convert');\n",
              "        buttonEl.style.display =\n",
              "          google.colab.kernel.accessAllowed ? 'block' : 'none';\n",
              "\n",
              "        async function convertToInteractive(key) {\n",
              "          const element = document.querySelector('#df-ac7ef5b9-541a-46d5-9d7e-221b91a6722e');\n",
              "          const dataTable =\n",
              "            await google.colab.kernel.invokeFunction('convertToInteractive',\n",
              "                                                     [key], {});\n",
              "          if (!dataTable) return;\n",
              "\n",
              "          const docLinkHtml = 'Like what you see? Visit the ' +\n",
              "            '<a target=\"_blank\" href=https://colab.research.google.com/notebooks/data_table.ipynb>data table notebook</a>'\n",
              "            + ' to learn more about interactive tables.';\n",
              "          element.innerHTML = '';\n",
              "          dataTable['output_type'] = 'display_data';\n",
              "          await google.colab.output.renderOutput(dataTable, element);\n",
              "          const docLink = document.createElement('div');\n",
              "          docLink.innerHTML = docLinkHtml;\n",
              "          element.appendChild(docLink);\n",
              "        }\n",
              "      </script>\n",
              "    </div>\n",
              "  </div>\n",
              "  "
            ]
          },
          "metadata": {},
          "execution_count": 82
        }
      ]
    },
    {
      "cell_type": "code",
      "source": [
        "import sklearn.feature_extraction.text as txt\n",
        "from sklearn.feature_extraction.text import CountVectorizer\n",
        "\n",
        "tfidf = txt.TfidfVectorizer()\n",
        "tfidf_result = tfidf.fit_transform(dataset['Normalized'])\n",
        "display(\"TF-IDF:\")\n",
        "print(tfidf_result)\n",
        "print(tfidf_result.shape)\n",
        "\n",
        "bow = CountVectorizer()\n",
        "bow_result = bow.fit_transform(dataset['Normalized'])\n",
        "display(\"Bag of Words:\")\n",
        "print(bow_result)\n",
        "print(bow_result.shape)"
      ],
      "metadata": {
        "colab": {
          "base_uri": "https://localhost:8080/",
          "height": 1000
        },
        "id": "dYzueuxor8Sw",
        "outputId": "806069c9-8aa1-49aa-cbf3-6f0c6698785b"
      },
      "execution_count": 85,
      "outputs": [
        {
          "output_type": "display_data",
          "data": {
            "text/plain": [
              "'TF-IDF:'"
            ],
            "application/vnd.google.colaboratory.intrinsic+json": {
              "type": "string"
            }
          },
          "metadata": {}
        },
        {
          "output_type": "stream",
          "name": "stdout",
          "text": [
            "  (0, 1757)\t0.35555228397248034\n",
            "  (0, 366)\t0.25975441272129507\n",
            "  (0, 1789)\t0.3867492180201868\n",
            "  (0, 2482)\t0.32684841411633764\n",
            "  (0, 2513)\t0.36918001588263494\n",
            "  (0, 485)\t0.4115116176489322\n",
            "  (0, 1392)\t0.3867492180201868\n",
            "  (0, 569)\t0.30739993779733826\n",
            "  (1, 136)\t0.15367878321615924\n",
            "  (1, 632)\t0.21278969913979828\n",
            "  (1, 1221)\t0.19998524030802986\n",
            "  (1, 774)\t0.21278969913979828\n",
            "  (1, 2154)\t0.21278969913979828\n",
            "  (1, 942)\t0.18385352998591956\n",
            "  (1, 820)\t0.18385352998591956\n",
            "  (1, 1923)\t0.18385352998591956\n",
            "  (1, 859)\t0.19998524030802986\n",
            "  (1, 1365)\t0.21278969913979828\n",
            "  (1, 1152)\t0.21278969913979828\n",
            "  (1, 845)\t0.21278969913979828\n",
            "  (1, 620)\t0.21278969913979828\n",
            "  (1, 531)\t0.21278969913979828\n",
            "  (1, 1373)\t0.21278969913979828\n",
            "  (1, 2344)\t0.17322784403737665\n",
            "  (1, 2537)\t0.21278969913979828\n",
            "  :\t:\n",
            "  (615, 1159)\t0.1530998497368447\n",
            "  (615, 22)\t0.15758845621182976\n",
            "  (616, 340)\t0.44059118910292194\n",
            "  (616, 730)\t0.3586764871546762\n",
            "  (616, 2377)\t0.41407894830689596\n",
            "  (616, 950)\t0.32343299830722577\n",
            "  (616, 330)\t0.3952682141030868\n",
            "  (616, 420)\t0.3499452391032517\n",
            "  (616, 745)\t0.3499452391032517\n",
            "  (617, 1738)\t0.6275934250632289\n",
            "  (617, 2479)\t0.6275934250632289\n",
            "  (617, 527)\t0.46070922026242395\n",
            "  (618, 1112)\t0.4430991399696931\n",
            "  (618, 2448)\t0.3828443827237715\n",
            "  (618, 389)\t0.3828443827237715\n",
            "  (618, 1883)\t0.32001049369373913\n",
            "  (618, 117)\t0.36071815986420436\n",
            "  (618, 1055)\t0.3708550208725954\n",
            "  (618, 80)\t0.27969309235475776\n",
            "  (618, 2439)\t0.24947450780494304\n",
            "  (619, 751)\t0.49324706676769203\n",
            "  (619, 2295)\t0.46356629845113867\n",
            "  (619, 1116)\t0.4425074581945576\n",
            "  (619, 421)\t0.46356629845113867\n",
            "  (619, 204)\t0.3620870813048699\n",
            "(620, 2588)\n"
          ]
        },
        {
          "output_type": "display_data",
          "data": {
            "text/plain": [
              "'Bag of Words:'"
            ],
            "application/vnd.google.colaboratory.intrinsic+json": {
              "type": "string"
            }
          },
          "metadata": {}
        },
        {
          "output_type": "stream",
          "name": "stdout",
          "text": [
            "  (0, 569)\t1\n",
            "  (0, 1392)\t1\n",
            "  (0, 485)\t1\n",
            "  (0, 2513)\t1\n",
            "  (0, 2482)\t1\n",
            "  (0, 1789)\t1\n",
            "  (0, 366)\t1\n",
            "  (0, 1757)\t1\n",
            "  (1, 95)\t1\n",
            "  (1, 1837)\t1\n",
            "  (1, 2450)\t1\n",
            "  (1, 816)\t1\n",
            "  (1, 1562)\t1\n",
            "  (1, 135)\t1\n",
            "  (1, 1880)\t1\n",
            "  (1, 1776)\t1\n",
            "  (1, 2025)\t1\n",
            "  (1, 2439)\t1\n",
            "  (1, 2537)\t1\n",
            "  (1, 2344)\t1\n",
            "  (1, 1373)\t1\n",
            "  (1, 531)\t1\n",
            "  (1, 620)\t1\n",
            "  (1, 845)\t1\n",
            "  (1, 1152)\t1\n",
            "  :\t:\n",
            "  (615, 2200)\t1\n",
            "  (615, 2415)\t1\n",
            "  (616, 745)\t1\n",
            "  (616, 420)\t1\n",
            "  (616, 330)\t1\n",
            "  (616, 950)\t1\n",
            "  (616, 2377)\t1\n",
            "  (616, 730)\t1\n",
            "  (616, 340)\t1\n",
            "  (617, 527)\t1\n",
            "  (617, 2479)\t1\n",
            "  (617, 1738)\t1\n",
            "  (618, 2439)\t1\n",
            "  (618, 80)\t1\n",
            "  (618, 1055)\t1\n",
            "  (618, 117)\t1\n",
            "  (618, 1883)\t1\n",
            "  (618, 389)\t1\n",
            "  (618, 2448)\t1\n",
            "  (618, 1112)\t1\n",
            "  (619, 204)\t1\n",
            "  (619, 421)\t1\n",
            "  (619, 1116)\t1\n",
            "  (619, 2295)\t1\n",
            "  (619, 751)\t1\n",
            "(620, 2588)\n"
          ]
        }
      ]
    },
    {
      "cell_type": "markdown",
      "metadata": {
        "id": "LuTi3rvnDvZL"
      },
      "source": [
        "###  Binary classification\n",
        "\n",
        "#### 8. [2 point] Train model using Logistic Regression (your own) and SVC (SVM can be taken from sklearn) \n",
        "\n",
        "* choose *two* authors from the dataset that you have formed in the previous task\n",
        "* check the balance of the classes\n",
        "* divide the data into train and test samples with 0.7 split rate (don't forget to fix the random state)\n",
        "* using GridSearchCV - find the best parameters for the models (by F1 score) and use it in the next tasks\n",
        "* make several plots to address the dependence between F1 score and parameters\n",
        "* plot confusion matrix for train and test samples\n",
        "* compute some relevant metrics for test sample (useful to check the seminars 5 and 6, use sklearn) \n",
        "* make conclusions about the performance of your models\n"
      ]
    },
    {
      "cell_type": "code",
      "execution_count": null,
      "metadata": {
        "id": "XZUP1HqFDvZL"
      },
      "outputs": [],
      "source": [
        "# your code here"
      ]
    },
    {
      "cell_type": "markdown",
      "metadata": {
        "id": "5G1kt0qbDvZL"
      },
      "source": [
        "#### 9. [1 point] Analysing ROC AUC\n",
        "\n",
        "It is possible to control the proportion of statistical errors of different types using different thresholds for choosing a class. Plot ROC curves for Logistic Regression and SVC, show the threshold on ROC curve plots. Choose such a threshold that your models have no more than 30% of false positive errors rate. Pay attention to `thresholds` parameter in sklearn roc_curve "
      ]
    },
    {
      "cell_type": "code",
      "execution_count": null,
      "metadata": {
        "id": "BZ2GZ8-uDvZL"
      },
      "outputs": [],
      "source": [
        "# your code here"
      ]
    },
    {
      "cell_type": "markdown",
      "metadata": {
        "id": "C-qubaK4DvZM"
      },
      "source": [
        "### Multiclass logit"
      ]
    },
    {
      "cell_type": "markdown",
      "metadata": {
        "id": "yJQone-LDvZM"
      },
      "source": [
        "#### 10. [1 point] Take the One-VS-One classifier (use sklearn) and apply to Logit model (one you've made in the 4th task) in order to get multiclass linear classifier\n",
        "\n",
        "<a href=\"https://scikit-learn.org/stable/modules/generated/sklearn.multiclass.OneVsOneClassifier.html\">OneVsOneClassifier</a>\n",
        "\n",
        "* use the data you got at the previous step for 6 authors\n",
        "* divide the data into train and test samples with 0.7 split rate\n",
        "* using GridSearchCV - find the best parameters for the models (by F1 score)\n",
        "* plot confusion matrix for train and test samples\n",
        "* compute all possible and relevant metrics for test sample (use sklearn)"
      ]
    },
    {
      "cell_type": "code",
      "execution_count": null,
      "metadata": {
        "id": "M4lR8qJ7DvZM"
      },
      "outputs": [],
      "source": [
        "# your code here"
      ]
    }
  ],
  "metadata": {
    "colab": {
      "collapsed_sections": [],
      "provenance": []
    },
    "kernelspec": {
      "display_name": "Python 3 (ipykernel)",
      "language": "python",
      "name": "python3"
    },
    "language_info": {
      "codemirror_mode": {
        "name": "ipython",
        "version": 3
      },
      "file_extension": ".py",
      "mimetype": "text/x-python",
      "name": "python",
      "nbconvert_exporter": "python",
      "pygments_lexer": "ipython3",
      "version": "3.9.7"
    }
  },
  "nbformat": 4,
  "nbformat_minor": 0
}