{
  "cells": [
    {
      "cell_type": "markdown",
      "metadata": {
        "id": "ayvrI_41IK1t"
      },
      "source": [
        "# HSE 2022: Mathematical Methods for Data Analysis\n",
        "\n",
        "## Homework 1"
      ]
    },
    {
      "cell_type": "markdown",
      "metadata": {
        "id": "M3fyiafCIK1y"
      },
      "source": [
        "### Attention!\n",
        "* For tasks where <ins>text answer</ins> is required **Russian language** is **allowed**.\n",
        "* If a task asks you to describe something (make coclusions) then **text answer** is **mandatory** and **is** part of the task\n",
        "* **Do not** upload the dataset (titanic.csv) to the grading system (we already have it)\n",
        "* We **only** accept **ipynb** notebooks. If you use Google Colab then you'll have to download the notebook before passing the homework\n",
        "* **Do not** use python loops instead of NumPy vector operations over NumPy vectors - it significantly decreases performance (see why https://blog.paperspace.com/numpy-optimization-vectorization-and-broadcasting/), will be punished with -0.25 for **every** task. \n",
        "Loops are only allowed in part 1 (Tasks 1 - 4). \n",
        "* Some tasks contain tests. They only test you solution on a simple example, thus, passing the test does **not** guarantee you the full grade for the task. "
      ]
    },
    {
      "cell_type": "code",
      "execution_count": 2,
      "metadata": {
        "id": "7rg-0DJaIK1z"
      },
      "outputs": [],
      "source": [
        "%matplotlib inline\n",
        "import numpy as np\n",
        "import pandas as pd\n",
        "import matplotlib.pyplot as plt\n",
        "import seaborn as sns"
      ]
    },
    {
      "cell_type": "markdown",
      "metadata": {
        "id": "SA7lrcqlIK10"
      },
      "source": [
        "# 1. Python (2 points) "
      ]
    },
    {
      "cell_type": "markdown",
      "metadata": {
        "id": "ExHiQ62ZIK11"
      },
      "source": [
        "**Task 1** (0.5 points)<br/> \n",
        "Enter nonzero numbers `a`,  `r` and `N`. Find the first `N` members of geometric progression with the first member `a` and factor `r`, without using formula for the product."
      ]
    },
    {
      "cell_type": "code",
      "source": [],
      "metadata": {
        "id": "-_LcdkXFi5Gs"
      },
      "execution_count": null,
      "outputs": []
    },
    {
      "cell_type": "code",
      "execution_count": null,
      "metadata": {
        "colab": {
          "base_uri": "https://localhost:8080/"
        },
        "id": "fSjh-33FIK11",
        "outputId": "f0876f8d-9662-42f9-df76-62249c0d29ca"
      },
      "outputs": [
        {
          "output_type": "stream",
          "name": "stdout",
          "text": [
            "[2, 6, 18]\n"
          ]
        }
      ],
      "source": [
        "def find_product(a,r,N):\n",
        "    prev_value = a\n",
        "    arr_product = [prev_value]\n",
        "\n",
        "    for i in range(1, N):\n",
        "      prev_value *= r\n",
        "      arr_product.append(prev_value)\n",
        "\n",
        "    return arr_product\n",
        "\n",
        "a = 2\n",
        "r = 3\n",
        "N = 3\n",
        "print(find_product(a,r,N))"
      ]
    },
    {
      "cell_type": "markdown",
      "metadata": {
        "id": "9IAEPRTOIK12"
      },
      "source": [
        "**Task 2** (0.5 points) <br/> \n",
        "Enter an integer number `N`. Check if it is a palindrome number. It means that it can be read equally from left to right and from right to back. "
      ]
    },
    {
      "cell_type": "code",
      "execution_count": null,
      "metadata": {
        "colab": {
          "base_uri": "https://localhost:8080/"
        },
        "id": "1vLSHSRhIK12",
        "outputId": "90bc8716-8f51-4479-ccce-3593a001bd46"
      },
      "outputs": [
        {
          "output_type": "stream",
          "name": "stdout",
          "text": [
            "3 True\n",
            "81 False\n",
            "111 True\n",
            "113 False\n",
            "810 False\n",
            "2022 False\n",
            "4774 True\n",
            "51315 True\n",
            "611816 False\n"
          ]
        }
      ],
      "source": [
        "def check_palindrome(N):\n",
        "    str_n = str(N)\n",
        "    size = len(str_n)\n",
        "    for i in range (0, size // 2):\n",
        "      if (str_n[i] != str_n[size - i - 1]):\n",
        "        return False\n",
        "    return True\n",
        "\n",
        "for N in [3, 81, 111, 113, 810, 2022, 4774, 51315, 611816]:\n",
        "    print(N, check_palindrome(N))"
      ]
    },
    {
      "cell_type": "markdown",
      "metadata": {
        "id": "SUrnkSa3IK13"
      },
      "source": [
        "**Task 3** (0.5 points) <br/> \n",
        "Find the first `N` palindrome numbers starting from 1000 (you may use the function from the precious task)."
      ]
    },
    {
      "cell_type": "code",
      "execution_count": null,
      "metadata": {
        "colab": {
          "base_uri": "https://localhost:8080/"
        },
        "id": "rWbS9b08IK13",
        "outputId": "4a9d2546-60d3-4c43-df50-a4b7194d8359"
      },
      "outputs": [
        {
          "output_type": "stream",
          "name": "stdout",
          "text": [
            "[1001, 1111, 1221, 1331, 1441]\n",
            "[1001, 1111, 1221, 1331, 1441, 1551, 1661, 1771, 1881, 1991]\n",
            "[1001, 1111, 1221, 1331, 1441, 1551, 1661, 1771, 1881, 1991, 2002, 2112, 2222, 2332, 2442, 2552, 2662, 2772, 2882, 2992]\n"
          ]
        }
      ],
      "source": [
        "def find_palindromes(N):\n",
        "    palindromes = []\n",
        "    current_number = 1000\n",
        "    while (len(palindromes) != N):\n",
        "      if (check_palindrome(current_number)):\n",
        "        palindromes.append(current_number)\n",
        "      current_number += 1\n",
        "    return palindromes\n",
        "\n",
        "print(find_palindromes(5))\n",
        "print(find_palindromes(10))\n",
        "print(find_palindromes(20))"
      ]
    },
    {
      "cell_type": "markdown",
      "metadata": {
        "id": "Cw3lANyxIK14"
      },
      "source": [
        "**Task 4** (0.5 points) <br/> \n",
        "There are numbers: `a`, `b`, `c`. Without using functions `min`, `max` and other functions, find the minimum number."
      ]
    },
    {
      "cell_type": "code",
      "execution_count": null,
      "metadata": {
        "colab": {
          "base_uri": "https://localhost:8080/"
        },
        "id": "JLH3AuZeIK14",
        "outputId": "27252258-3576-4f1b-ef36-b8aad2e692ce"
      },
      "outputs": [
        {
          "output_type": "stream",
          "name": "stdout",
          "text": [
            "-49 -89 72 \tMinimum: -89\n",
            "94 83 87 \tMinimum: 83\n",
            "-53 97 -18 \tMinimum: -53\n",
            "-85 -96 4 \tMinimum: -96\n",
            "-52 61 -22 \tMinimum: -52\n",
            "46 24 86 \tMinimum: 24\n",
            "22 -8 43 \tMinimum: -8\n",
            "80 27 -80 \tMinimum: -80\n",
            "76 2 -9 \tMinimum: -9\n",
            "-64 -51 95 \tMinimum: -64\n"
          ]
        }
      ],
      "source": [
        "from random import randint\n",
        "def find_min(a, b, c):\n",
        "    if (a < b):\n",
        "      if (a < c):\n",
        "        return a\n",
        "      else:\n",
        "        return c\n",
        "    else:\n",
        "      if (b < c):\n",
        "        return b\n",
        "      else:\n",
        "        return c\n",
        "\n",
        "for i in range(10):\n",
        "    \n",
        "    a = randint(-100, 100)\n",
        "    b = randint(-100, 100)\n",
        "    c = randint(-100, 100)\n",
        "    \n",
        "    print(a, b, c, '\\tMinimum:', find_min(a, b, c))"
      ]
    },
    {
      "cell_type": "markdown",
      "metadata": {
        "id": "bT2-v7peIK14"
      },
      "source": [
        "# 2. Numpy (4 points)"
      ]
    },
    {
      "cell_type": "markdown",
      "metadata": {
        "id": "EZLyKDJJIK15"
      },
      "source": [
        "**Task 1** (0.5 points) <br/>\n",
        "Create a random array (`np.random.rand()`) with length of 17 and with sum of its elements equals to 6."
      ]
    },
    {
      "cell_type": "code",
      "execution_count": null,
      "metadata": {
        "colab": {
          "base_uri": "https://localhost:8080/"
        },
        "id": "ATZsBZDnIK15",
        "outputId": "a4db3ab7-9ad5-4b28-de94-315e4ffbff19"
      },
      "outputs": [
        {
          "output_type": "stream",
          "name": "stdout",
          "text": [
            "Length: 17\n",
            "Sum of elements: 6.0\n"
          ]
        }
      ],
      "source": [
        "target_length = 17\n",
        "target_sum = 6\n",
        "\n",
        "mapper = lambda x: x * target_sum\n",
        "\n",
        "my_array = mapper(np.random.dirichlet(np.ones(target_length), size = 1)[0])\n",
        "\n",
        "print(f'Length: {len(my_array)}')\n",
        "print(f'Sum of elements: {np.sum(my_array)}')"
      ]
    },
    {
      "cell_type": "markdown",
      "metadata": {
        "id": "zidQcw0OIK16"
      },
      "source": [
        "**Task 2** (0.5 points) <br/>\n",
        "Create two random arrays $a$ and $b$ with the same length. \n",
        "\n",
        "Calculate the following distances between the arrays **without using special funcrion. You may only use basic numpy operations (`np.linalg.*` and other high-level ones are prohibited).**:\n",
        "\n",
        "* Manhattan Distance\n",
        "$$ d(a, b) = \\sum_i |a_i - b_i| $$\n",
        "* Euclidean Distance\n",
        "$$ d(a, b) = \\sqrt{\\sum_i (a_i - b_i)^2} $$\n",
        "* Chebyshev Distance\n",
        "$$ d(a, b) = \\underset{i}{max} |a_i - b_i| $$\n",
        "* Cosine Distance\n",
        "$$ d(a, b) = 1 - \\frac{a^\\top b}{||a||_2\\cdot||b||_2} $$\n"
      ]
    },
    {
      "cell_type": "code",
      "execution_count": null,
      "metadata": {
        "id": "zTtqqa1oIK16"
      },
      "outputs": [],
      "source": [
        "def calculate_manhattan(a, b):    \n",
        "    return abs((a - b).sum())\n",
        "\n",
        "def calculate_euclidean(a, b):    \n",
        "    return np.sqrt(((a - b) ** 2).sum())\n",
        "\n",
        "def calculate_chebyshev(a, b):    \n",
        "    return abs(a - b).max()\n",
        "\n",
        "def calculate_cosine(a, b):    \n",
        "    def magnitude(vector):\n",
        "      return np.sqrt(sum(pow(element, 2) for element in vector))\n",
        "\n",
        "\n",
        "    distance = np.matmul(np.transpose(a), b)\n",
        "    return 1 - distance / (magnitude(a) * magnitude(b))"
      ]
    },
    {
      "cell_type": "code",
      "execution_count": null,
      "metadata": {
        "colab": {
          "base_uri": "https://localhost:8080/"
        },
        "id": "gvQ_fWF1IK16",
        "outputId": "c135735c-575b-4966-c995-44f9cdf3f35f"
      },
      "outputs": [
        {
          "output_type": "stream",
          "name": "stdout",
          "text": [
            "Manhattan distance: 113\n",
            "Euclidean distance: 193.60526852335397\n",
            "Chebyshev distance: 92\n",
            "Cosine distance: 0.2892549286046032\n"
          ]
        }
      ],
      "source": [
        "max_length = 30\n",
        "min_length = 3\n",
        "target_length = np.random.randint(max_length) + min_length\n",
        "\n",
        "\n",
        "def generate_array(length):\n",
        "  max_value = 100\n",
        "  return np.random.randint(max_value, size = length)\n",
        "\n",
        "\n",
        "a = generate_array(target_length)\n",
        "b = generate_array(target_length)\n",
        "print(f'Manhattan distance: {calculate_manhattan(a, b)}')\n",
        "print(f'Euclidean distance: {calculate_euclidean(a, b)}')\n",
        "print(f'Chebyshev distance: {calculate_chebyshev(a, b)}')\n",
        "print(f'Cosine distance: {calculate_cosine(a, b)}')"
      ]
    },
    {
      "cell_type": "markdown",
      "metadata": {
        "id": "Qy5ZS3tVIK17"
      },
      "source": [
        "**Task 3** (0.5 points) <br/>\n",
        "Create a random array (`np.random.randint()`) with length of 76. Transform the array so that \n",
        "* Maximum element(s) value is -1\n",
        "* Minimum element(s) value is -4\n",
        "* Other values are in interval (-4; -1) with keeping the order"
      ]
    },
    {
      "cell_type": "code",
      "execution_count": null,
      "metadata": {
        "id": "loXnAk68IK17"
      },
      "outputs": [],
      "source": [
        "def transform(array):\n",
        "    target_min_value = -4\n",
        "    target_max_value = -1\n",
        "\n",
        "    current_min_value = array.min()\n",
        "    current_max_value = array.max()\n",
        "\n",
        "    transformed_array = array.copy()\n",
        "    np.place(\n",
        "        transformed_array, \n",
        "        transformed_array == current_min_value, \n",
        "        target_min_value\n",
        "    )\n",
        "    np.place(\n",
        "        transformed_array,\n",
        "        transformed_array == current_max_value,\n",
        "        target_max_value\n",
        "    )\n",
        "\n",
        "    def mapper(value):\n",
        "      if (value == target_min_value):\n",
        "        return target_min_value\n",
        "      if (value == target_max_value):\n",
        "        return target_max_value\n",
        "      \n",
        "      k = (value - current_min_value) / (current_max_value - current_min_value)\n",
        "      new_value = (target_max_value - target_min_value) * k + target_min_value\n",
        "      return new_value\n",
        "\n",
        "    func = np.vectorize(mapper)\n",
        "    return func(transformed_array)"
      ]
    },
    {
      "cell_type": "code",
      "execution_count": null,
      "metadata": {
        "colab": {
          "base_uri": "https://localhost:8080/"
        },
        "id": "rMkKmhmXIK18",
        "outputId": "cf0b993c-94aa-4e45-c42a-a9bd154a8900"
      },
      "outputs": [
        {
          "output_type": "stream",
          "name": "stdout",
          "text": [
            "Min: -4.0\n",
            "Max: -1.0\n",
            "Array:\n",
            "[-1.91836735 -1.6122449  -3.63265306 -1.33673469 -2.46938776 -1.36734694\n",
            " -3.20408163 -2.25510204 -2.83673469 -3.81632653 -1.76530612 -2.65306122\n",
            " -3.35714286 -1.85714286 -2.86734694 -2.71428571 -3.90816327 -2.37755102\n",
            " -3.17346939 -2.13265306 -2.25510204 -1.21428571 -2.25510204 -1.21428571\n",
            " -2.74489796 -1.73469388 -3.20408163 -1.64285714 -1.18367347 -1.36734694\n",
            " -1.39795918 -2.7755102  -3.69387755 -3.63265306 -1.09183673 -2.34693878\n",
            " -2.74489796 -1.18367347 -3.23469388 -3.26530612 -1.97959184 -1.52040816\n",
            " -2.53061224 -1.18367347 -2.62244898 -2.68367347 -3.05102041 -2.59183673\n",
            " -1.03061224 -3.17346939 -3.08163265 -3.14285714 -3.57142857 -1.\n",
            " -2.68367347 -2.28571429 -2.89795918 -3.3877551  -2.56122449 -3.41836735\n",
            " -2.25510204 -1.06122449 -1.         -1.18367347 -1.67346939 -1.91836735\n",
            " -2.04081633 -3.54081633 -3.63265306 -1.64285714 -3.26530612 -3.17346939\n",
            " -1.33673469 -4.         -3.7244898  -2.62244898]\n"
          ]
        }
      ],
      "source": [
        "target_size = 76\n",
        "max_value = 100\n",
        "my_array = np.random.randint(max_value, size=target_size)\n",
        "my_array = transform(my_array)\n",
        "print(f'Min: {np.min(my_array)}')\n",
        "print(f'Max: {np.max(my_array)}')\n",
        "print('Array:')\n",
        "print(my_array)"
      ]
    },
    {
      "cell_type": "markdown",
      "metadata": {
        "id": "84k-KOmRIK18"
      },
      "source": [
        "**Task 4** (0.5 points) <br/>\n",
        "Create an array with shape of $8 \\times 5$ with integers from [-7, 43]. Print a column that contains the maximum element of the array."
      ]
    },
    {
      "cell_type": "code",
      "execution_count": null,
      "metadata": {
        "colab": {
          "base_uri": "https://localhost:8080/"
        },
        "id": "WZnmOUlDIK18",
        "outputId": "9d4e6eb1-d307-4095-925e-cca110b715fa"
      },
      "outputs": [
        {
          "output_type": "stream",
          "name": "stdout",
          "text": [
            "Shape:  (5, 8)\n",
            "Array:\n",
            "[[42 18 12 -5 29  4 12 -3]\n",
            " [32 35 22 17  0 41 26 42]\n",
            " [13  6 10 32 12 36 25 29]\n",
            " [10 40 22 32 16 36 36 -1]\n",
            " [31 23 36 -4 -1  3 14  9]]\n",
            "Selected column: [[42]\n",
            " [42]\n",
            " [36]\n",
            " [40]\n",
            " [36]]\n"
          ]
        }
      ],
      "source": [
        "max_value = 43\n",
        "min_value = -7\n",
        "\n",
        "width = 8\n",
        "height = 5\n",
        "\n",
        "my_array = np.random.randint(max_value - min_value, size = (height, width)) + min_value\n",
        "matrix = np.asmatrix(my_array)\n",
        "selected_column = matrix.max(1)\n",
        "\n",
        "print('Shape: ', my_array.shape)\n",
        "print('Array:')\n",
        "print(my_array)\n",
        "print(f'Selected column: {selected_column}')"
      ]
    },
    {
      "cell_type": "markdown",
      "metadata": {
        "id": "yFs-DU_vIK19"
      },
      "source": [
        "**Task 5** (0.5 points) <br/>\n",
        "\n",
        "Replace all missing values in the following array with median."
      ]
    },
    {
      "cell_type": "code",
      "execution_count": null,
      "metadata": {
        "colab": {
          "base_uri": "https://localhost:8080/"
        },
        "id": "tePEIv7OIK19",
        "outputId": "72b44b4e-2549-43bd-9a9c-c5450b2159a6"
      },
      "outputs": [
        {
          "output_type": "stream",
          "name": "stdout",
          "text": [
            "Array:\n",
            "[0.48990157 0.3317478  0.10255269 0.3317478  0.99314901 0.3317478\n",
            " 0.04820383 0.78625518 0.3317478  0.1530801 ]\n"
          ]
        }
      ],
      "source": [
        "arr = np.random.rand(10)\n",
        "idx = np.random.randint(0, 10, 4)\n",
        "arr[idx] = np.nan\n",
        "\n",
        "\n",
        "filter_arr = np.isnan(arr) == False\n",
        "median = np.median(arr[filter_arr])\n",
        "arr[idx] = median\n",
        "\n",
        "print('Array:')\n",
        "print(arr)"
      ]
    },
    {
      "cell_type": "markdown",
      "metadata": {
        "id": "FSBILrIZIK1-"
      },
      "source": [
        "**Task 6** (0.5 points) <br/>\n",
        "Create a function which takes an image ```X``` (3D array of the shape (n, m, 3)) as an input and returns the mean for all 3 channels (a vector of shape 3)."
      ]
    },
    {
      "cell_type": "code",
      "execution_count": null,
      "metadata": {
        "id": "myY_S7wmIK1-"
      },
      "outputs": [],
      "source": [
        "def mean_channel(X):\n",
        "    return np.mean(X, axis = (0, 1))"
      ]
    },
    {
      "cell_type": "code",
      "execution_count": null,
      "metadata": {
        "colab": {
          "base_uri": "https://localhost:8080/"
        },
        "id": "9eP0-_1oIK1-",
        "outputId": "ca05a70a-6c6b-44fb-aa56-db3b453de4eb"
      },
      "outputs": [
        {
          "output_type": "stream",
          "name": "stdout",
          "text": [
            "[-2.23798627 -2.08009153 -2.15789474]\n"
          ]
        }
      ],
      "source": [
        "n = 19\n",
        "m = 23\n",
        "X =  np.random.randint(-11, 8, size=(n, m, 3))\n",
        "print(mean_channel(X))"
      ]
    },
    {
      "cell_type": "markdown",
      "metadata": {
        "id": "81gjPwUkIK1-"
      },
      "source": [
        "### **Task 7** (1 points) <br/>\n",
        "Create a function which takes a 3D matrix ```X``` as an input and returns all its unique vertical (first axis) layers.\n",
        "\n",
        "Sample input:\n",
        "\n",
        "     ([[[1, 2, 3],\n",
        "        [1, 2, 3],\n",
        "        [1, 2, 3]],\n",
        "\n",
        "       [[4, 5, 6],\n",
        "        [4, 5, 7]\n",
        "        [4, 5, 6]],\n",
        "\n",
        "       [[7, 8, 9],\n",
        "        [7, 8, 9]\n",
        "        [7, 8, 9]]])\n",
        "        \n",
        "Sample output:\n",
        "\n",
        "     ([[[1, 2, 3],\n",
        "        [1, 2, 3]],\n",
        "\n",
        "       [[4, 5, 6],\n",
        "        [4, 5, 7]],\n",
        "\n",
        "       [[7, 8, 9],\n",
        "        [7, 8, 9]]])"
      ]
    },
    {
      "cell_type": "code",
      "execution_count": null,
      "metadata": {
        "id": "ojliifmDIK1_"
      },
      "outputs": [],
      "source": [
        "def get_unique_columns(X):\n",
        "    X_unique = np.unique(X, axis=1)\n",
        "    return X_unique"
      ]
    },
    {
      "cell_type": "code",
      "execution_count": null,
      "metadata": {
        "colab": {
          "base_uri": "https://localhost:8080/"
        },
        "id": "GpkbAOREIK1_",
        "outputId": "27f31a85-2564-4cb3-e746-1e296640b442"
      },
      "outputs": [
        {
          "output_type": "stream",
          "name": "stdout",
          "text": [
            "Unique rows:\n"
          ]
        },
        {
          "output_type": "execute_result",
          "data": {
            "text/plain": [
              "array([[[4, 4, 5],\n",
              "        [5, 5, 4],\n",
              "        [5, 5, 5]],\n",
              "\n",
              "       [[4, 5, 5],\n",
              "        [5, 4, 4],\n",
              "        [5, 5, 5]],\n",
              "\n",
              "       [[4, 4, 4],\n",
              "        [4, 4, 5],\n",
              "        [4, 5, 5]],\n",
              "\n",
              "       [[5, 4, 5],\n",
              "        [4, 5, 5],\n",
              "        [4, 5, 5]],\n",
              "\n",
              "       [[4, 4, 4],\n",
              "        [4, 4, 4],\n",
              "        [5, 4, 4]],\n",
              "\n",
              "       [[5, 5, 4],\n",
              "        [5, 4, 4],\n",
              "        [4, 5, 5]],\n",
              "\n",
              "       [[5, 5, 4],\n",
              "        [5, 5, 4],\n",
              "        [5, 5, 5]],\n",
              "\n",
              "       [[5, 5, 4],\n",
              "        [4, 5, 5],\n",
              "        [4, 5, 4]],\n",
              "\n",
              "       [[5, 5, 4],\n",
              "        [4, 4, 4],\n",
              "        [4, 4, 5]],\n",
              "\n",
              "       [[5, 5, 5],\n",
              "        [4, 4, 5],\n",
              "        [5, 5, 4]],\n",
              "\n",
              "       [[5, 5, 5],\n",
              "        [5, 4, 4],\n",
              "        [4, 5, 4]],\n",
              "\n",
              "       [[4, 4, 5],\n",
              "        [5, 4, 4],\n",
              "        [5, 5, 5]],\n",
              "\n",
              "       [[4, 4, 4],\n",
              "        [4, 4, 4],\n",
              "        [5, 5, 5]],\n",
              "\n",
              "       [[5, 5, 5],\n",
              "        [4, 5, 5],\n",
              "        [4, 4, 4]],\n",
              "\n",
              "       [[5, 5, 4],\n",
              "        [4, 5, 4],\n",
              "        [5, 5, 5]],\n",
              "\n",
              "       [[5, 4, 4],\n",
              "        [5, 5, 5],\n",
              "        [5, 5, 4]],\n",
              "\n",
              "       [[4, 4, 4],\n",
              "        [4, 4, 5],\n",
              "        [4, 4, 5]],\n",
              "\n",
              "       [[5, 5, 4],\n",
              "        [4, 4, 4],\n",
              "        [4, 4, 5]],\n",
              "\n",
              "       [[5, 4, 5],\n",
              "        [5, 5, 4],\n",
              "        [4, 5, 4]]])"
            ]
          },
          "metadata": {},
          "execution_count": 14
        }
      ],
      "source": [
        "X = np.random.randint(4, 6, size=(n, 3, 3))\n",
        "# print('Matrix:')\n",
        "# print(X)\n",
        "print('Unique rows:')\n",
        "get_unique_columns(X)"
      ]
    },
    {
      "cell_type": "markdown",
      "metadata": {
        "id": "I43WWeBPIK2A"
      },
      "source": [
        "# 3. Pandas & Visualization (4 points)\n"
      ]
    },
    {
      "cell_type": "markdown",
      "metadata": {
        "id": "AW0q10RZIK2B"
      },
      "source": [
        "You are going to work with *Titanic* dataset which contains information about passengers of Titanic:\n",
        "- **Survived** - 1 - survived, 0 - died (0); **Target variable**\n",
        "- **pclass** - passengers's class;\n",
        "- **sex** - passengers's sex\n",
        "- **Age** - passengers's age in years\n",
        "- **sibsp**    - is the passenger someones siblings   \n",
        "- **parch**    - is the passenger someones child or parent\n",
        "- **ticket** - ticket number    \n",
        "- **fare** - ticket price    \n",
        "- **cabin** - cabin number\n",
        "- **embarked** - port of Embarkation; C = Cherbourg, Q = Queenstown, S = Southampton\n",
        "\n",
        "**Note** for all visualizations use matplotlib or seaborn but NOT plotly! Plotly's graphics sometimes vanish after saving. In this case the task wont't be graded.\n",
        "\n",
        "**Note** support all your answers with necessary code, computations, vizualization, and explanation. Answers without code and explanation won't be graded.\n",
        "\n",
        "**Task 0** (0 points) \\\n",
        "Load the dataset and print first 5 rows"
      ]
    },
    {
      "cell_type": "code",
      "execution_count": 4,
      "metadata": {
        "colab": {
          "base_uri": "https://localhost:8080/",
          "height": 330
        },
        "id": "nsghgXv8IK2C",
        "outputId": "73d15f62-33cf-4659-f6b8-492ebc76a674"
      },
      "outputs": [
        {
          "output_type": "execute_result",
          "data": {
            "text/plain": [
              "             Survived  Pclass  \\\n",
              "PassengerId                     \n",
              "1                   0       3   \n",
              "2                   1       1   \n",
              "3                   1       3   \n",
              "4                   1       1   \n",
              "5                   0       3   \n",
              "\n",
              "                                                          Name     Sex   Age  \\\n",
              "PassengerId                                                                    \n",
              "1                                      Braund, Mr. Owen Harris    male  22.0   \n",
              "2            Cumings, Mrs. John Bradley (Florence Briggs Th...  female  38.0   \n",
              "3                                       Heikkinen, Miss. Laina  female  26.0   \n",
              "4                 Futrelle, Mrs. Jacques Heath (Lily May Peel)  female  35.0   \n",
              "5                                     Allen, Mr. William Henry    male  35.0   \n",
              "\n",
              "             SibSp  Parch            Ticket     Fare Cabin Embarked  \n",
              "PassengerId                                                          \n",
              "1                1      0         A/5 21171   7.2500   NaN        S  \n",
              "2                1      0          PC 17599  71.2833   C85        C  \n",
              "3                0      0  STON/O2. 3101282   7.9250   NaN        S  \n",
              "4                1      0            113803  53.1000  C123        S  \n",
              "5                0      0            373450   8.0500   NaN        S  "
            ],
            "text/html": [
              "\n",
              "  <div id=\"df-4283ddf6-73b5-48de-8b81-dee8386485f5\">\n",
              "    <div class=\"colab-df-container\">\n",
              "      <div>\n",
              "<style scoped>\n",
              "    .dataframe tbody tr th:only-of-type {\n",
              "        vertical-align: middle;\n",
              "    }\n",
              "\n",
              "    .dataframe tbody tr th {\n",
              "        vertical-align: top;\n",
              "    }\n",
              "\n",
              "    .dataframe thead th {\n",
              "        text-align: right;\n",
              "    }\n",
              "</style>\n",
              "<table border=\"1\" class=\"dataframe\">\n",
              "  <thead>\n",
              "    <tr style=\"text-align: right;\">\n",
              "      <th></th>\n",
              "      <th>Survived</th>\n",
              "      <th>Pclass</th>\n",
              "      <th>Name</th>\n",
              "      <th>Sex</th>\n",
              "      <th>Age</th>\n",
              "      <th>SibSp</th>\n",
              "      <th>Parch</th>\n",
              "      <th>Ticket</th>\n",
              "      <th>Fare</th>\n",
              "      <th>Cabin</th>\n",
              "      <th>Embarked</th>\n",
              "    </tr>\n",
              "    <tr>\n",
              "      <th>PassengerId</th>\n",
              "      <th></th>\n",
              "      <th></th>\n",
              "      <th></th>\n",
              "      <th></th>\n",
              "      <th></th>\n",
              "      <th></th>\n",
              "      <th></th>\n",
              "      <th></th>\n",
              "      <th></th>\n",
              "      <th></th>\n",
              "      <th></th>\n",
              "    </tr>\n",
              "  </thead>\n",
              "  <tbody>\n",
              "    <tr>\n",
              "      <th>1</th>\n",
              "      <td>0</td>\n",
              "      <td>3</td>\n",
              "      <td>Braund, Mr. Owen Harris</td>\n",
              "      <td>male</td>\n",
              "      <td>22.0</td>\n",
              "      <td>1</td>\n",
              "      <td>0</td>\n",
              "      <td>A/5 21171</td>\n",
              "      <td>7.2500</td>\n",
              "      <td>NaN</td>\n",
              "      <td>S</td>\n",
              "    </tr>\n",
              "    <tr>\n",
              "      <th>2</th>\n",
              "      <td>1</td>\n",
              "      <td>1</td>\n",
              "      <td>Cumings, Mrs. John Bradley (Florence Briggs Th...</td>\n",
              "      <td>female</td>\n",
              "      <td>38.0</td>\n",
              "      <td>1</td>\n",
              "      <td>0</td>\n",
              "      <td>PC 17599</td>\n",
              "      <td>71.2833</td>\n",
              "      <td>C85</td>\n",
              "      <td>C</td>\n",
              "    </tr>\n",
              "    <tr>\n",
              "      <th>3</th>\n",
              "      <td>1</td>\n",
              "      <td>3</td>\n",
              "      <td>Heikkinen, Miss. Laina</td>\n",
              "      <td>female</td>\n",
              "      <td>26.0</td>\n",
              "      <td>0</td>\n",
              "      <td>0</td>\n",
              "      <td>STON/O2. 3101282</td>\n",
              "      <td>7.9250</td>\n",
              "      <td>NaN</td>\n",
              "      <td>S</td>\n",
              "    </tr>\n",
              "    <tr>\n",
              "      <th>4</th>\n",
              "      <td>1</td>\n",
              "      <td>1</td>\n",
              "      <td>Futrelle, Mrs. Jacques Heath (Lily May Peel)</td>\n",
              "      <td>female</td>\n",
              "      <td>35.0</td>\n",
              "      <td>1</td>\n",
              "      <td>0</td>\n",
              "      <td>113803</td>\n",
              "      <td>53.1000</td>\n",
              "      <td>C123</td>\n",
              "      <td>S</td>\n",
              "    </tr>\n",
              "    <tr>\n",
              "      <th>5</th>\n",
              "      <td>0</td>\n",
              "      <td>3</td>\n",
              "      <td>Allen, Mr. William Henry</td>\n",
              "      <td>male</td>\n",
              "      <td>35.0</td>\n",
              "      <td>0</td>\n",
              "      <td>0</td>\n",
              "      <td>373450</td>\n",
              "      <td>8.0500</td>\n",
              "      <td>NaN</td>\n",
              "      <td>S</td>\n",
              "    </tr>\n",
              "  </tbody>\n",
              "</table>\n",
              "</div>\n",
              "      <button class=\"colab-df-convert\" onclick=\"convertToInteractive('df-4283ddf6-73b5-48de-8b81-dee8386485f5')\"\n",
              "              title=\"Convert this dataframe to an interactive table.\"\n",
              "              style=\"display:none;\">\n",
              "        \n",
              "  <svg xmlns=\"http://www.w3.org/2000/svg\" height=\"24px\"viewBox=\"0 0 24 24\"\n",
              "       width=\"24px\">\n",
              "    <path d=\"M0 0h24v24H0V0z\" fill=\"none\"/>\n",
              "    <path d=\"M18.56 5.44l.94 2.06.94-2.06 2.06-.94-2.06-.94-.94-2.06-.94 2.06-2.06.94zm-11 1L8.5 8.5l.94-2.06 2.06-.94-2.06-.94L8.5 2.5l-.94 2.06-2.06.94zm10 10l.94 2.06.94-2.06 2.06-.94-2.06-.94-.94-2.06-.94 2.06-2.06.94z\"/><path d=\"M17.41 7.96l-1.37-1.37c-.4-.4-.92-.59-1.43-.59-.52 0-1.04.2-1.43.59L10.3 9.45l-7.72 7.72c-.78.78-.78 2.05 0 2.83L4 21.41c.39.39.9.59 1.41.59.51 0 1.02-.2 1.41-.59l7.78-7.78 2.81-2.81c.8-.78.8-2.07 0-2.86zM5.41 20L4 18.59l7.72-7.72 1.47 1.35L5.41 20z\"/>\n",
              "  </svg>\n",
              "      </button>\n",
              "      \n",
              "  <style>\n",
              "    .colab-df-container {\n",
              "      display:flex;\n",
              "      flex-wrap:wrap;\n",
              "      gap: 12px;\n",
              "    }\n",
              "\n",
              "    .colab-df-convert {\n",
              "      background-color: #E8F0FE;\n",
              "      border: none;\n",
              "      border-radius: 50%;\n",
              "      cursor: pointer;\n",
              "      display: none;\n",
              "      fill: #1967D2;\n",
              "      height: 32px;\n",
              "      padding: 0 0 0 0;\n",
              "      width: 32px;\n",
              "    }\n",
              "\n",
              "    .colab-df-convert:hover {\n",
              "      background-color: #E2EBFA;\n",
              "      box-shadow: 0px 1px 2px rgba(60, 64, 67, 0.3), 0px 1px 3px 1px rgba(60, 64, 67, 0.15);\n",
              "      fill: #174EA6;\n",
              "    }\n",
              "\n",
              "    [theme=dark] .colab-df-convert {\n",
              "      background-color: #3B4455;\n",
              "      fill: #D2E3FC;\n",
              "    }\n",
              "\n",
              "    [theme=dark] .colab-df-convert:hover {\n",
              "      background-color: #434B5C;\n",
              "      box-shadow: 0px 1px 3px 1px rgba(0, 0, 0, 0.15);\n",
              "      filter: drop-shadow(0px 1px 2px rgba(0, 0, 0, 0.3));\n",
              "      fill: #FFFFFF;\n",
              "    }\n",
              "  </style>\n",
              "\n",
              "      <script>\n",
              "        const buttonEl =\n",
              "          document.querySelector('#df-4283ddf6-73b5-48de-8b81-dee8386485f5 button.colab-df-convert');\n",
              "        buttonEl.style.display =\n",
              "          google.colab.kernel.accessAllowed ? 'block' : 'none';\n",
              "\n",
              "        async function convertToInteractive(key) {\n",
              "          const element = document.querySelector('#df-4283ddf6-73b5-48de-8b81-dee8386485f5');\n",
              "          const dataTable =\n",
              "            await google.colab.kernel.invokeFunction('convertToInteractive',\n",
              "                                                     [key], {});\n",
              "          if (!dataTable) return;\n",
              "\n",
              "          const docLinkHtml = 'Like what you see? Visit the ' +\n",
              "            '<a target=\"_blank\" href=https://colab.research.google.com/notebooks/data_table.ipynb>data table notebook</a>'\n",
              "            + ' to learn more about interactive tables.';\n",
              "          element.innerHTML = '';\n",
              "          dataTable['output_type'] = 'display_data';\n",
              "          await google.colab.output.renderOutput(dataTable, element);\n",
              "          const docLink = document.createElement('div');\n",
              "          docLink.innerHTML = docLinkHtml;\n",
              "          element.appendChild(docLink);\n",
              "        }\n",
              "      </script>\n",
              "    </div>\n",
              "  </div>\n",
              "  "
            ]
          },
          "metadata": {},
          "execution_count": 4
        }
      ],
      "source": [
        "filename = 'titanic.csv'\n",
        "dataset = pd.read_csv(filename, index_col=0)\n",
        "dataset.head()"
      ]
    },
    {
      "cell_type": "markdown",
      "metadata": {
        "id": "vI6L9YmIIK2D"
      },
      "source": [
        "**Task 1** (1 points) <br/>\n",
        "Answer the following questions:\n",
        "    \n",
        "    * Are there any missing values? In what columns?\n",
        "    * What is the percentage of survived passengers? Are the classes balanced?\n",
        "    * Were there more males or females?\n",
        "    * What what the least popular port of embarkation?\n",
        "    * How many classes (pclass) were there on Tinanic?\n",
        "    * What is the overall average ticket fare? And for every class?\n",
        "Please, write not only the answers but the code, proving it."
      ]
    },
    {
      "cell_type": "code",
      "execution_count": null,
      "metadata": {
        "id": "7WNSv21wIK2E"
      },
      "outputs": [],
      "source": [
        "#1. So, there are a lot of missing values. Columns: Age, Cabin, Embarked\n",
        "print('#1\\n')\n",
        "display(dataset.isna().sum()[dataset.isna().any()])\n",
        "print('\\n')\n",
        "\n",
        "\n",
        "#2.Percentage of survived passengers: 28%. Classes are balanced.\n",
        "print('#2\\n')\n",
        "dataset.size / dataset['Survived'].sum()\n",
        "survived = dataset[dataset['Survived'] == 1]\n",
        "display(survived.groupby(['Pclass']).sum()['Survived'])\n",
        "print('\\n')\n",
        "\n",
        "#3. Female more\n",
        "print('#3\\n')\n",
        "display(survived.groupby(['Sex']).sum()['Survived'])\n",
        "print('\\n')\n",
        "\n",
        "#4. Least popular port is Queenstown\n",
        "print('#4\\n')\n",
        "targetDF = dataset.groupby(['Embarked']).count()\n",
        "display(targetDF[targetDF['Survived'] == targetDF['Survived'].min()])\n",
        "print('\\n')\n",
        "\n",
        "#5. There are 3 pclasses on Titanic\n",
        "print('#5\\n')\n",
        "display(dataset['Pclass'].unique())\n",
        "print('\\n')\n",
        "\n",
        "#6. Overall average ticket fare is 32.204. For classes: 1 - 84.154, 2 - 20.662, 3 - 13.675\n",
        "print('#6\\n')\n",
        "dataset['Fare'].mean()\n",
        "display(dataset.groupby('Pclass').mean()['Fare'])\n",
        "print('\\n')"
      ]
    },
    {
      "cell_type": "markdown",
      "metadata": {
        "id": "8HS_wRchIK2E"
      },
      "source": [
        "**Task 2** (0.5 points) <br/>\n",
        "Visualize age distribution (you may use a histogram, for example). \n",
        "\n",
        "    * What is the minimal and maximum ages of the passengers? Visualize it on the plot\n",
        "    * What is the mean age? And among males and females sepatately? Visualize it on the plot\n",
        "    * Make conclusions about what you see on the plot"
      ]
    },
    {
      "cell_type": "code",
      "execution_count": 110,
      "metadata": {
        "id": "RhYi0DxCIK2E",
        "colab": {
          "base_uri": "https://localhost:8080/",
          "height": 606
        },
        "outputId": "23e89d4f-01ef-4950-90e6-acf15cbcf52d"
      },
      "outputs": [
        {
          "output_type": "display_data",
          "data": {
            "text/plain": [
              "<Figure size 1080x720 with 1 Axes>"
            ],
            "image/png": "[encoded data removed]"
          },
          "metadata": {
            "needs_background": "light"
          }
        }
      ],
      "source": [
        "plt.subplots(figsize=(15,10))\n",
        "sns.histplot(data = dataset['Age'], kde=True, label = 'Passengers age')\n",
        "plt.axvline(dataset['Age'].mean(), label = 'Mean age', c = 'Black', lw = 5)\n",
        "\n",
        "femaleDataset = dataset[dataset['Sex'] == 'female']\n",
        "maleDataset = dataset[dataset['Sex'] == 'male']\n",
        "\n",
        "plt.axvline(femaleDataset['Age'].mean(), label = 'Female Mean age', c = 'Green', lw = 5)\n",
        "plt.axvline(maleDataset['Age'].mean(), label = 'Male Mean age', c = 'Yellow', lw = 5)\n",
        "plt.legend()\n",
        "\n",
        "plt.show()\n",
        "\n",
        "# Minimum age is 0. Maximum age is 80.\n",
        "# Mean age is about 30. Male mean age is about 31. Female mean age is about 28."
      ]
    },
    {
      "cell_type": "markdown",
      "metadata": {
        "id": "lv_56nJnIK2F"
      },
      "source": [
        "**Task 3** (1 points) <br/>\n",
        "Find all the titles of the passengers (example, *Capt., Mr.,Mme.*), which are written in the column Name, and answer the following questions:\n",
        "\n",
        "    * How many are there unique titles?\n",
        "    * How many are there passengers with every title?\n",
        "    * What is the most popular man's title? And woman's title?\n",
        "    \n",
        "**Hint** You may select the title from the name as a word which contains a dot."
      ]
    },
    {
      "cell_type": "code",
      "execution_count": 156,
      "metadata": {
        "id": "GysKnDPoIK2F",
        "colab": {
          "base_uri": "https://localhost:8080/",
          "height": 732
        },
        "outputId": "e897ab2f-50ea-4568-8e6d-3eff07b82647"
      },
      "outputs": [
        {
          "output_type": "stream",
          "name": "stdout",
          "text": [
            "Unique titles:  ['Capt.' 'Col.' 'Countess.' 'Don.' 'Dr.' 'Jonkheer.' 'Lady.' 'Major.'\n",
            " 'Master.' 'Miss.' 'Mlle.' 'Mme.' 'Mr.' 'Mrs.' 'Ms.' 'Rev.' 'Sir.']\n",
            "Unique titles count:  17\n",
            "\n",
            "\n",
            "Passengers for every class:\n"
          ]
        },
        {
          "output_type": "display_data",
          "data": {
            "text/plain": [
              "Titles\n",
              "Capt.          1\n",
              "Col.           2\n",
              "Countess.      1\n",
              "Don.           1\n",
              "Dr.            7\n",
              "Jonkheer.      1\n",
              "Lady.          1\n",
              "Major.         2\n",
              "Master.       40\n",
              "Miss.        182\n",
              "Mlle.          2\n",
              "Mme.           1\n",
              "Mr.          517\n",
              "Mrs.         125\n",
              "Ms.            1\n",
              "Rev.           6\n",
              "Sir.           1\n",
              "Name: Survived, dtype: int64"
            ]
          },
          "metadata": {}
        },
        {
          "output_type": "stream",
          "name": "stdout",
          "text": [
            "\n",
            "\n",
            "Male most popular title:\n"
          ]
        },
        {
          "output_type": "display_data",
          "data": {
            "text/plain": [
              "        Survived  Pclass  Name  Sex  Age  SibSp  Parch  Ticket  Fare  Cabin  \\\n",
              "Titles                                                                        \n",
              "Mr.          517     517   517  517  398    517    517     517   517     93   \n",
              "\n",
              "        Embarked  \n",
              "Titles            \n",
              "Mr.          517  "
            ],
            "text/html": [
              "\n",
              "  <div id=\"df-fd4dc2c9-0828-4d15-b751-b0b1be09b55d\">\n",
              "    <div class=\"colab-df-container\">\n",
              "      <div>\n",
              "<style scoped>\n",
              "    .dataframe tbody tr th:only-of-type {\n",
              "        vertical-align: middle;\n",
              "    }\n",
              "\n",
              "    .dataframe tbody tr th {\n",
              "        vertical-align: top;\n",
              "    }\n",
              "\n",
              "    .dataframe thead th {\n",
              "        text-align: right;\n",
              "    }\n",
              "</style>\n",
              "<table border=\"1\" class=\"dataframe\">\n",
              "  <thead>\n",
              "    <tr style=\"text-align: right;\">\n",
              "      <th></th>\n",
              "      <th>Survived</th>\n",
              "      <th>Pclass</th>\n",
              "      <th>Name</th>\n",
              "      <th>Sex</th>\n",
              "      <th>Age</th>\n",
              "      <th>SibSp</th>\n",
              "      <th>Parch</th>\n",
              "      <th>Ticket</th>\n",
              "      <th>Fare</th>\n",
              "      <th>Cabin</th>\n",
              "      <th>Embarked</th>\n",
              "    </tr>\n",
              "    <tr>\n",
              "      <th>Titles</th>\n",
              "      <th></th>\n",
              "      <th></th>\n",
              "      <th></th>\n",
              "      <th></th>\n",
              "      <th></th>\n",
              "      <th></th>\n",
              "      <th></th>\n",
              "      <th></th>\n",
              "      <th></th>\n",
              "      <th></th>\n",
              "      <th></th>\n",
              "    </tr>\n",
              "  </thead>\n",
              "  <tbody>\n",
              "    <tr>\n",
              "      <th>Mr.</th>\n",
              "      <td>517</td>\n",
              "      <td>517</td>\n",
              "      <td>517</td>\n",
              "      <td>517</td>\n",
              "      <td>398</td>\n",
              "      <td>517</td>\n",
              "      <td>517</td>\n",
              "      <td>517</td>\n",
              "      <td>517</td>\n",
              "      <td>93</td>\n",
              "      <td>517</td>\n",
              "    </tr>\n",
              "  </tbody>\n",
              "</table>\n",
              "</div>\n",
              "      <button class=\"colab-df-convert\" onclick=\"convertToInteractive('df-fd4dc2c9-0828-4d15-b751-b0b1be09b55d')\"\n",
              "              title=\"Convert this dataframe to an interactive table.\"\n",
              "              style=\"display:none;\">\n",
              "        \n",
              "  <svg xmlns=\"http://www.w3.org/2000/svg\" height=\"24px\"viewBox=\"0 0 24 24\"\n",
              "       width=\"24px\">\n",
              "    <path d=\"M0 0h24v24H0V0z\" fill=\"none\"/>\n",
              "    <path d=\"M18.56 5.44l.94 2.06.94-2.06 2.06-.94-2.06-.94-.94-2.06-.94 2.06-2.06.94zm-11 1L8.5 8.5l.94-2.06 2.06-.94-2.06-.94L8.5 2.5l-.94 2.06-2.06.94zm10 10l.94 2.06.94-2.06 2.06-.94-2.06-.94-.94-2.06-.94 2.06-2.06.94z\"/><path d=\"M17.41 7.96l-1.37-1.37c-.4-.4-.92-.59-1.43-.59-.52 0-1.04.2-1.43.59L10.3 9.45l-7.72 7.72c-.78.78-.78 2.05 0 2.83L4 21.41c.39.39.9.59 1.41.59.51 0 1.02-.2 1.41-.59l7.78-7.78 2.81-2.81c.8-.78.8-2.07 0-2.86zM5.41 20L4 18.59l7.72-7.72 1.47 1.35L5.41 20z\"/>\n",
              "  </svg>\n",
              "      </button>\n",
              "      \n",
              "  <style>\n",
              "    .colab-df-container {\n",
              "      display:flex;\n",
              "      flex-wrap:wrap;\n",
              "      gap: 12px;\n",
              "    }\n",
              "\n",
              "    .colab-df-convert {\n",
              "      background-color: #E8F0FE;\n",
              "      border: none;\n",
              "      border-radius: 50%;\n",
              "      cursor: pointer;\n",
              "      display: none;\n",
              "      fill: #1967D2;\n",
              "      height: 32px;\n",
              "      padding: 0 0 0 0;\n",
              "      width: 32px;\n",
              "    }\n",
              "\n",
              "    .colab-df-convert:hover {\n",
              "      background-color: #E2EBFA;\n",
              "      box-shadow: 0px 1px 2px rgba(60, 64, 67, 0.3), 0px 1px 3px 1px rgba(60, 64, 67, 0.15);\n",
              "      fill: #174EA6;\n",
              "    }\n",
              "\n",
              "    [theme=dark] .colab-df-convert {\n",
              "      background-color: #3B4455;\n",
              "      fill: #D2E3FC;\n",
              "    }\n",
              "\n",
              "    [theme=dark] .colab-df-convert:hover {\n",
              "      background-color: #434B5C;\n",
              "      box-shadow: 0px 1px 3px 1px rgba(0, 0, 0, 0.15);\n",
              "      filter: drop-shadow(0px 1px 2px rgba(0, 0, 0, 0.3));\n",
              "      fill: #FFFFFF;\n",
              "    }\n",
              "  </style>\n",
              "\n",
              "      <script>\n",
              "        const buttonEl =\n",
              "          document.querySelector('#df-fd4dc2c9-0828-4d15-b751-b0b1be09b55d button.colab-df-convert');\n",
              "        buttonEl.style.display =\n",
              "          google.colab.kernel.accessAllowed ? 'block' : 'none';\n",
              "\n",
              "        async function convertToInteractive(key) {\n",
              "          const element = document.querySelector('#df-fd4dc2c9-0828-4d15-b751-b0b1be09b55d');\n",
              "          const dataTable =\n",
              "            await google.colab.kernel.invokeFunction('convertToInteractive',\n",
              "                                                     [key], {});\n",
              "          if (!dataTable) return;\n",
              "\n",
              "          const docLinkHtml = 'Like what you see? Visit the ' +\n",
              "            '<a target=\"_blank\" href=https://colab.research.google.com/notebooks/data_table.ipynb>data table notebook</a>'\n",
              "            + ' to learn more about interactive tables.';\n",
              "          element.innerHTML = '';\n",
              "          dataTable['output_type'] = 'display_data';\n",
              "          await google.colab.output.renderOutput(dataTable, element);\n",
              "          const docLink = document.createElement('div');\n",
              "          docLink.innerHTML = docLinkHtml;\n",
              "          element.appendChild(docLink);\n",
              "        }\n",
              "      </script>\n",
              "    </div>\n",
              "  </div>\n",
              "  "
            ]
          },
          "metadata": {}
        },
        {
          "output_type": "stream",
          "name": "stdout",
          "text": [
            "\n",
            "\n",
            "Female most popular title:\n"
          ]
        },
        {
          "output_type": "display_data",
          "data": {
            "text/plain": [
              "        Survived  Pclass  Name  Sex  Age  SibSp  Parch  Ticket  Fare  Cabin  \\\n",
              "Titles                                                                        \n",
              "Miss.        182     182   182  182  146    182    182     182   182     47   \n",
              "\n",
              "        Embarked  \n",
              "Titles            \n",
              "Miss.        181  "
            ],
            "text/html": [
              "\n",
              "  <div id=\"df-3a82041f-15a8-40c9-9aa7-c0f2ac8e46b8\">\n",
              "    <div class=\"colab-df-container\">\n",
              "      <div>\n",
              "<style scoped>\n",
              "    .dataframe tbody tr th:only-of-type {\n",
              "        vertical-align: middle;\n",
              "    }\n",
              "\n",
              "    .dataframe tbody tr th {\n",
              "        vertical-align: top;\n",
              "    }\n",
              "\n",
              "    .dataframe thead th {\n",
              "        text-align: right;\n",
              "    }\n",
              "</style>\n",
              "<table border=\"1\" class=\"dataframe\">\n",
              "  <thead>\n",
              "    <tr style=\"text-align: right;\">\n",
              "      <th></th>\n",
              "      <th>Survived</th>\n",
              "      <th>Pclass</th>\n",
              "      <th>Name</th>\n",
              "      <th>Sex</th>\n",
              "      <th>Age</th>\n",
              "      <th>SibSp</th>\n",
              "      <th>Parch</th>\n",
              "      <th>Ticket</th>\n",
              "      <th>Fare</th>\n",
              "      <th>Cabin</th>\n",
              "      <th>Embarked</th>\n",
              "    </tr>\n",
              "    <tr>\n",
              "      <th>Titles</th>\n",
              "      <th></th>\n",
              "      <th></th>\n",
              "      <th></th>\n",
              "      <th></th>\n",
              "      <th></th>\n",
              "      <th></th>\n",
              "      <th></th>\n",
              "      <th></th>\n",
              "      <th></th>\n",
              "      <th></th>\n",
              "      <th></th>\n",
              "    </tr>\n",
              "  </thead>\n",
              "  <tbody>\n",
              "    <tr>\n",
              "      <th>Miss.</th>\n",
              "      <td>182</td>\n",
              "      <td>182</td>\n",
              "      <td>182</td>\n",
              "      <td>182</td>\n",
              "      <td>146</td>\n",
              "      <td>182</td>\n",
              "      <td>182</td>\n",
              "      <td>182</td>\n",
              "      <td>182</td>\n",
              "      <td>47</td>\n",
              "      <td>181</td>\n",
              "    </tr>\n",
              "  </tbody>\n",
              "</table>\n",
              "</div>\n",
              "      <button class=\"colab-df-convert\" onclick=\"convertToInteractive('df-3a82041f-15a8-40c9-9aa7-c0f2ac8e46b8')\"\n",
              "              title=\"Convert this dataframe to an interactive table.\"\n",
              "              style=\"display:none;\">\n",
              "        \n",
              "  <svg xmlns=\"http://www.w3.org/2000/svg\" height=\"24px\"viewBox=\"0 0 24 24\"\n",
              "       width=\"24px\">\n",
              "    <path d=\"M0 0h24v24H0V0z\" fill=\"none\"/>\n",
              "    <path d=\"M18.56 5.44l.94 2.06.94-2.06 2.06-.94-2.06-.94-.94-2.06-.94 2.06-2.06.94zm-11 1L8.5 8.5l.94-2.06 2.06-.94-2.06-.94L8.5 2.5l-.94 2.06-2.06.94zm10 10l.94 2.06.94-2.06 2.06-.94-2.06-.94-.94-2.06-.94 2.06-2.06.94z\"/><path d=\"M17.41 7.96l-1.37-1.37c-.4-.4-.92-.59-1.43-.59-.52 0-1.04.2-1.43.59L10.3 9.45l-7.72 7.72c-.78.78-.78 2.05 0 2.83L4 21.41c.39.39.9.59 1.41.59.51 0 1.02-.2 1.41-.59l7.78-7.78 2.81-2.81c.8-.78.8-2.07 0-2.86zM5.41 20L4 18.59l7.72-7.72 1.47 1.35L5.41 20z\"/>\n",
              "  </svg>\n",
              "      </button>\n",
              "      \n",
              "  <style>\n",
              "    .colab-df-container {\n",
              "      display:flex;\n",
              "      flex-wrap:wrap;\n",
              "      gap: 12px;\n",
              "    }\n",
              "\n",
              "    .colab-df-convert {\n",
              "      background-color: #E8F0FE;\n",
              "      border: none;\n",
              "      border-radius: 50%;\n",
              "      cursor: pointer;\n",
              "      display: none;\n",
              "      fill: #1967D2;\n",
              "      height: 32px;\n",
              "      padding: 0 0 0 0;\n",
              "      width: 32px;\n",
              "    }\n",
              "\n",
              "    .colab-df-convert:hover {\n",
              "      background-color: #E2EBFA;\n",
              "      box-shadow: 0px 1px 2px rgba(60, 64, 67, 0.3), 0px 1px 3px 1px rgba(60, 64, 67, 0.15);\n",
              "      fill: #174EA6;\n",
              "    }\n",
              "\n",
              "    [theme=dark] .colab-df-convert {\n",
              "      background-color: #3B4455;\n",
              "      fill: #D2E3FC;\n",
              "    }\n",
              "\n",
              "    [theme=dark] .colab-df-convert:hover {\n",
              "      background-color: #434B5C;\n",
              "      box-shadow: 0px 1px 3px 1px rgba(0, 0, 0, 0.15);\n",
              "      filter: drop-shadow(0px 1px 2px rgba(0, 0, 0, 0.3));\n",
              "      fill: #FFFFFF;\n",
              "    }\n",
              "  </style>\n",
              "\n",
              "      <script>\n",
              "        const buttonEl =\n",
              "          document.querySelector('#df-3a82041f-15a8-40c9-9aa7-c0f2ac8e46b8 button.colab-df-convert');\n",
              "        buttonEl.style.display =\n",
              "          google.colab.kernel.accessAllowed ? 'block' : 'none';\n",
              "\n",
              "        async function convertToInteractive(key) {\n",
              "          const element = document.querySelector('#df-3a82041f-15a8-40c9-9aa7-c0f2ac8e46b8');\n",
              "          const dataTable =\n",
              "            await google.colab.kernel.invokeFunction('convertToInteractive',\n",
              "                                                     [key], {});\n",
              "          if (!dataTable) return;\n",
              "\n",
              "          const docLinkHtml = 'Like what you see? Visit the ' +\n",
              "            '<a target=\"_blank\" href=https://colab.research.google.com/notebooks/data_table.ipynb>data table notebook</a>'\n",
              "            + ' to learn more about interactive tables.';\n",
              "          element.innerHTML = '';\n",
              "          dataTable['output_type'] = 'display_data';\n",
              "          await google.colab.output.renderOutput(dataTable, element);\n",
              "          const docLink = document.createElement('div');\n",
              "          docLink.innerHTML = docLinkHtml;\n",
              "          element.appendChild(docLink);\n",
              "        }\n",
              "      </script>\n",
              "    </div>\n",
              "  </div>\n",
              "  "
            ]
          },
          "metadata": {}
        }
      ],
      "source": [
        "def getTitle(value):\n",
        "  if ('.' in value):\n",
        "    end_index = str(value).index('.')\n",
        "    start_index = str(value)[:end_index].rfind(' ')\n",
        "    return str(value)[start_index + 1 : end_index + 1]\n",
        "  else:\n",
        "    return ''\n",
        "\n",
        "names = map(getTitle, dataset['Name'].to_numpy())\n",
        "titles = np.array(list(names))\n",
        "uniqueTitles = np.unique(titles)\n",
        "print('Unique titles: ', uniqueTitles)\n",
        "print('Unique titles count: ', uniqueTitles.size)\n",
        "\n",
        "titlesDataset = dataset.copy()\n",
        "titlesDataset['Titles'] = titles\n",
        "print('\\n')\n",
        "print('Passengers for every class:')\n",
        "display(titlesDataset.groupby('Titles').count()['Survived'])\n",
        "\n",
        "maleTitlesDataset = titlesDataset[titlesDataset['Sex'] == 'male']\n",
        "femaleTitlesDataset = titlesDataset[titlesDataset['Sex'] == 'female']\n",
        "\n",
        "print('\\n')\n",
        "print('Male most popular title:')\n",
        "maleCountDataset = maleTitlesDataset.groupby('Titles').count()\n",
        "display(maleCountDataset[maleCountDataset['Survived'] == maleCountDataset['Survived'].max()])\n",
        "\n",
        "print('\\n')\n",
        "print('Female most popular title:')\n",
        "femaleCountDataset = femaleTitlesDataset.groupby('Titles').count()\n",
        "display(femaleCountDataset[femaleCountDataset['Survived'] == femaleCountDataset['Survived'].max()])"
      ]
    },
    {
      "cell_type": "markdown",
      "metadata": {
        "id": "9euQ8eYTIK2G"
      },
      "source": [
        "**Task 4** (0.5 points) <br/>\n",
        "Is there correlation between *pclass* and *ticket price*? Calculate mean price for each port and visualize prize distribution for each port. Make conclusions about what you see on the plot\n",
        "\n",
        "Hint: you could make one or several plot types i.e.  box, violine, pair, histogram (see additional notebooks for Seminar 1 \"Visualization with Seaborn\"). main point here is to **choose** plots wisely and **make meaningful conclusions**\n",
        "\n"
      ]
    },
    {
      "cell_type": "code",
      "execution_count": 8,
      "metadata": {
        "id": "tUr7fkmhIK2G",
        "colab": {
          "base_uri": "https://localhost:8080/",
          "height": 623
        },
        "outputId": "0d61899a-af7c-45b8-e8c0-4a0431748819"
      },
      "outputs": [
        {
          "output_type": "stream",
          "name": "stdout",
          "text": [
            "Correlation:  -0.5494996199439074\n"
          ]
        },
        {
          "output_type": "display_data",
          "data": {
            "text/plain": [
              "<Figure size 720x720 with 1 Axes>"
            ],
            "image/png": "[encoded data removed]"
          },
          "metadata": {
            "needs_background": "light"
          }
        }
      ],
      "source": [
        "corr = dataset['Pclass'].corr(dataset['Fare'])\n",
        "print('Correlation: ', corr)\n",
        "\n",
        "plt.subplots(figsize = (10,10))\n",
        "sns.histplot(dataset['Embarked'], label='Mean', stat=\"percent\", linewidth=0)\n",
        "plt.legend()\n",
        "plt.show()"
      ]
    },
    {
      "cell_type": "markdown",
      "metadata": {
        "id": "QS2u6wDjIK2H"
      },
      "source": [
        "**Task 5** (0.5 points) <br/>\n",
        "The same question as in task 4 about correlation between *embarked* and *ticket priсe*."
      ]
    },
    {
      "cell_type": "code",
      "execution_count": 180,
      "metadata": {
        "id": "O7DL3lXCIK2H",
        "colab": {
          "base_uri": "https://localhost:8080/"
        },
        "outputId": "6339e5a9-c48b-4e40-d1b4-d16c8668df5b"
      },
      "outputs": [
        {
          "output_type": "stream",
          "name": "stdout",
          "text": [
            "[83, 67, 83, 83, 83, 81, 83, 83, 83, 67, 83, 83, 83, 83, 83, 83, 81, 83, 83, 67, 83, 83, 81, 83, 83, 83, 67, 83, 81, 83, 67, 67, 81, 83, 67, 83, 67, 83, 83, 67, 83, 83, 67, 67, 81, 83, 81, 81, 67, 83, 83, 83, 67, 83, 67, 83, 83, 67, 83, 83, 67, 5, 83, 83, 67, 67, 83, 83, 83, 83, 83, 83, 83, 67, 83, 83, 83, 83, 83, 83, 83, 83, 81, 83, 83, 83, 83, 83, 83, 83, 83, 83, 83, 83, 83, 83, 67, 67, 83, 83, 83, 83, 83, 83, 83, 83, 83, 83, 83, 81, 83, 67, 83, 83, 67, 83, 81, 83, 67, 83, 83, 83, 67, 83, 83, 67, 81, 83, 67, 83, 67, 83, 83, 83, 83, 67, 83, 83, 83, 67, 67, 83, 83, 81, 83, 83, 83, 83, 83, 83, 83, 83, 83, 83, 83, 67, 81, 83, 83, 83, 83, 83, 83, 83, 83, 83, 83, 83, 83, 83, 83, 81, 83, 83, 67, 83, 83, 67, 83, 83, 83, 67, 83, 83, 83, 83, 81, 83, 81, 83, 83, 83, 83, 83, 67, 67, 81, 83, 81, 83, 83, 83, 83, 67, 83, 83, 83, 67, 81, 67, 83, 83, 83, 83, 81, 67, 83, 83, 67, 83, 83, 83, 83, 83, 83, 83, 83, 83, 83, 83, 83, 83, 83, 83, 83, 83, 83, 83, 83, 83, 67, 81, 83, 83, 67, 81, 83, 83, 83, 83, 83, 83, 83, 83, 83, 67, 67, 83, 67, 83, 81, 83, 83, 83, 81, 83, 83, 83, 83, 83, 83, 83, 83, 67, 81, 83, 83, 83, 81, 83, 81, 83, 83, 83, 83, 67, 83, 83, 83, 81, 83, 67, 67, 83, 83, 67, 67, 83, 83, 67, 81, 81, 83, 81, 83, 83, 67, 67, 67, 67, 67, 67, 83, 83, 83, 83, 83, 83, 83, 67, 83, 83, 81, 83, 83, 67, 83, 83, 83, 67, 81, 83, 83, 83, 83, 83, 83, 67, 83, 83, 83, 83, 83, 83, 83, 83, 83, 83, 83, 83, 83, 83, 67, 83, 67, 83, 83, 83, 81, 81, 83, 67, 67, 83, 81, 83, 67, 67, 81, 67, 67, 83, 83, 67, 83, 67, 83, 67, 67, 83, 67, 67, 83, 83, 83, 83, 83, 83, 81, 67, 83, 83, 83, 67, 83, 83, 83, 83, 83, 83, 83, 83, 83, 83, 83, 83, 83, 83, 83, 83, 83, 81, 81, 83, 83, 83, 83, 83, 83, 83, 67, 81, 83, 83, 83, 83, 83, 83, 81, 83, 83, 83, 83, 83, 83, 83, 83, 83, 83, 83, 83, 83, 83, 83, 83, 83, 83, 83, 67, 83, 83, 83, 67, 67, 83, 67, 83, 83, 83, 81, 83, 83, 83, 83, 83, 83, 83, 83, 81, 67, 83, 83, 83, 67, 83, 83, 83, 83, 83, 83, 83, 83, 83, 83, 67, 83, 83, 67, 83, 83, 83, 83, 83, 67, 83, 67, 67, 83, 83, 83, 83, 81, 81, 83, 83, 67, 83, 83, 83, 83, 81, 83, 83, 67, 83, 83, 83, 81, 83, 83, 83, 83, 67, 67, 67, 81, 83, 83, 83, 83, 83, 67, 67, 67, 83, 83, 83, 67, 83, 67, 83, 83, 83, 83, 67, 83, 83, 67, 83, 83, 67, 83, 81, 67, 83, 83, 67, 67, 83, 83, 81, 83, 83, 83, 83, 83, 83, 83, 67, 83, 83, 83, 83, 81, 83, 83, 83, 83, 67, 83, 83, 67, 83, 67, 67, 83, 83, 67, 83, 83, 83, 67, 83, 81, 83, 83, 83, 83, 67, 67, 83, 83, 83, 83, 67, 83, 83, 83, 67, 83, 83, 83, 81, 81, 83, 83, 83, 83, 83, 83, 67, 83, 67, 83, 83, 83, 81, 83, 83, 81, 83, 83, 67, 83, 83, 83, 83, 83, 83, 83, 83, 67, 83, 83, 67, 67, 83, 67, 83, 83, 83, 83, 83, 81, 81, 83, 83, 81, 83, 67, 83, 67, 83, 83, 83, 83, 83, 83, 83, 83, 83, 83, 83, 83, 83, 83, 83, 83, 83, 67, 81, 67, 83, 83, 83, 67, 83, 83, 83, 83, 83, 67, 83, 67, 83, 83, 83, 81, 67, 83, 67, 83, 67, 81, 83, 83, 83, 83, 83, 67, 67, 83, 83, 83, 83, 83, 67, 83, 81, 83, 83, 83, 83, 83, 83, 83, 83, 81, 83, 83, 83, 67, 83, 83, 83, 83, 83, 67, 83, 83, 83, 83, 67, 83, 83, 83, 83, 83, 83, 81, 83, 83, 83, 83, 83, 83, 83, 83, 83, 83, 83, 83, 67, 83, 83, 83, 67, 81, 81, 83, 83, 83, 83, 67, 83, 83, 81, 83, 81, 83, 67, 83, 83, 83, 83, 83, 83, 81, 83, 67, 81, 83, 83, 67, 83, 83, 83, 83, 67, 83, 83, 83, 83, 67, 83, 83, 83, 83, 83, 83, 83, 83, 83, 83, 83, 83, 83, 67, 83, 83, 83, 83, 83, 83, 83, 81, 83, 67, 81, 5, 67, 83, 67, 83, 83, 67, 83, 83, 83, 67, 83, 83, 67, 67, 83, 83, 83, 67, 83, 67, 83, 83, 67, 83, 83, 83, 83, 83, 67, 67, 83, 83, 83, 83, 83, 83, 67, 83, 83, 83, 83, 83, 83, 83, 67, 67, 83, 83, 83, 67, 83, 83, 83, 83, 83, 81, 83, 83, 83, 67, 81]\n",
            "Correlation:  -0.25052604366674347\n"
          ]
        }
      ],
      "source": [
        "null_constant = 5\n",
        "\n",
        "def embarkedMapping(value):\n",
        "  if (pd.isnull(value)):\n",
        "    return null_constant\n",
        "  else:\n",
        "    return ord(value)\n",
        "\n",
        "embarkedDataset = dataset.copy()\n",
        "embarkedValues = embarkedDataset['Embarked'].to_numpy()\n",
        "embarkedValues = list(map(embarkedMapping, embarkedValues))\n",
        "\n",
        "embarkedDataset['Embarked-Int'] = embarkedValues\n",
        "corr = embarkedDataset['Embarked-Int'].corr(embarkedDataset['Fare'])\n",
        "print('Correlation: ', corr)"
      ]
    },
    {
      "cell_type": "markdown",
      "metadata": {
        "id": "xf6eQO5sIK2H"
      },
      "source": [
        "**Task 6** (0.5 points) <br/>\n",
        "Visualize age distribution for survived and not survived passengers separately and calculate the mean age for each class. Are they different? Provide the same visualization for males and females separately. Make conclusions about what you see on the plots"
      ]
    },
    {
      "cell_type": "code",
      "execution_count": null,
      "metadata": {
        "id": "BshCS0kqIK2H"
      },
      "outputs": [],
      "source": [
        "## You code here"
      ]
    }
  ],
  "metadata": {
    "kernelspec": {
      "display_name": "Python 3 (ipykernel)",
      "language": "python",
      "name": "python3"
    },
    "language_info": {
      "codemirror_mode": {
        "name": "ipython",
        "version": 3
      },
      "file_extension": ".py",
      "mimetype": "text/x-python",
      "name": "python",
      "nbconvert_exporter": "python",
      "pygments_lexer": "ipython3",
      "version": "3.9.7"
    },
    "colab": {
      "provenance": [],
      "collapsed_sections": [
        "SA7lrcqlIK10"
      ]
    }
  },
  "nbformat": 4,
  "nbformat_minor": 0
}