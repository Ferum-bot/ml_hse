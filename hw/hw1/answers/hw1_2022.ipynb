{
  "cells": [
    {
      "cell_type": "markdown",
      "metadata": {
        "id": "ayvrI_41IK1t"
      },
      "source": [
        "# HSE 2022: Mathematical Methods for Data Analysis\n",
        "\n",
        "## Homework 1"
      ]
    },
    {
      "cell_type": "markdown",
      "metadata": {
        "id": "M3fyiafCIK1y"
      },
      "source": [
        "### Attention!\n",
        "* For tasks where <ins>text answer</ins> is required **Russian language** is **allowed**.\n",
        "* If a task asks you to describe something (make coclusions) then **text answer** is **mandatory** and **is** part of the task\n",
        "* **Do not** upload the dataset (titanic.csv) to the grading system (we already have it)\n",
        "* We **only** accept **ipynb** notebooks. If you use Google Colab then you'll have to download the notebook before passing the homework\n",
        "* **Do not** use python loops instead of NumPy vector operations over NumPy vectors - it significantly decreases performance (see why https://blog.paperspace.com/numpy-optimization-vectorization-and-broadcasting/), will be punished with -0.25 for **every** task. \n",
        "Loops are only allowed in part 1 (Tasks 1 - 4). \n",
        "* Some tasks contain tests. They only test you solution on a simple example, thus, passing the test does **not** guarantee you the full grade for the task. "
      ]
    },
    {
      "cell_type": "code",
      "execution_count": 2,
      "metadata": {
        "id": "7rg-0DJaIK1z"
      },
      "outputs": [],
      "source": [
        "%matplotlib inline\n",
        "import numpy as np\n",
        "import pandas as pd\n",
        "import matplotlib.pyplot as plt\n",
        "import seaborn as sns"
      ]
    },
    {
      "cell_type": "markdown",
      "metadata": {
        "id": "SA7lrcqlIK10"
      },
      "source": [
        "# 1. Python (2 points) "
      ]
    },
    {
      "cell_type": "markdown",
      "metadata": {
        "id": "ExHiQ62ZIK11"
      },
      "source": [
        "**Task 1** (0.5 points)<br/> \n",
        "Enter nonzero numbers `a`,  `r` and `N`. Find the first `N` members of geometric progression with the first member `a` and factor `r`, without using formula for the product."
      ]
    },
    {
      "cell_type": "code",
      "source": [],
      "metadata": {
        "id": "-_LcdkXFi5Gs"
      },
      "execution_count": 2,
      "outputs": []
    },
    {
      "cell_type": "code",
      "execution_count": 4,
      "metadata": {
        "colab": {
          "base_uri": "https://localhost:8080/"
        },
        "id": "fSjh-33FIK11",
        "outputId": "f0876f8d-9662-42f9-df76-62249c0d29ca"
      },
      "outputs": [
        {
          "output_type": "stream",
          "name": "stdout",
          "text": [
            "[2, 6, 18]\n"
          ]
        }
      ],
      "source": [
        "def find_product(a,r,N):\n",
        "    prev_value = a\n",
        "    arr_product = [prev_value]\n",
        "\n",
        "    for i in range(1, N):\n",
        "      prev_value *= r\n",
        "      arr_product.append(prev_value)\n",
        "\n",
        "    return arr_product\n",
        "\n",
        "a = 2\n",
        "r = 3\n",
        "N = 3\n",
        "print(find_product(a,r,N))"
      ]
    },
    {
      "cell_type": "markdown",
      "metadata": {
        "id": "9IAEPRTOIK12"
      },
      "source": [
        "**Task 2** (0.5 points) <br/> \n",
        "Enter an integer number `N`. Check if it is a palindrome number. It means that it can be read equally from left to right and from right to back. "
      ]
    },
    {
      "cell_type": "code",
      "execution_count": 6,
      "metadata": {
        "colab": {
          "base_uri": "https://localhost:8080/"
        },
        "id": "1vLSHSRhIK12",
        "outputId": "90bc8716-8f51-4479-ccce-3593a001bd46"
      },
      "outputs": [
        {
          "output_type": "stream",
          "name": "stdout",
          "text": [
            "3 True\n",
            "81 False\n",
            "111 True\n",
            "113 False\n",
            "810 False\n",
            "2022 False\n",
            "4774 True\n",
            "51315 True\n",
            "611816 False\n"
          ]
        }
      ],
      "source": [
        "def check_palindrome(N):\n",
        "    str_n = str(N)\n",
        "    size = len(str_n)\n",
        "    for i in range (0, size // 2):\n",
        "      if (str_n[i] != str_n[size - i - 1]):\n",
        "        return False\n",
        "    return True\n",
        "\n",
        "for N in [3, 81, 111, 113, 810, 2022, 4774, 51315, 611816]:\n",
        "    print(N, check_palindrome(N))"
      ]
    },
    {
      "cell_type": "markdown",
      "metadata": {
        "id": "SUrnkSa3IK13"
      },
      "source": [
        "**Task 3** (0.5 points) <br/> \n",
        "Find the first `N` palindrome numbers starting from 1000 (you may use the function from the precious task)."
      ]
    },
    {
      "cell_type": "code",
      "execution_count": 7,
      "metadata": {
        "colab": {
          "base_uri": "https://localhost:8080/"
        },
        "id": "rWbS9b08IK13",
        "outputId": "4a9d2546-60d3-4c43-df50-a4b7194d8359"
      },
      "outputs": [
        {
          "output_type": "stream",
          "name": "stdout",
          "text": [
            "[1001, 1111, 1221, 1331, 1441]\n",
            "[1001, 1111, 1221, 1331, 1441, 1551, 1661, 1771, 1881, 1991]\n",
            "[1001, 1111, 1221, 1331, 1441, 1551, 1661, 1771, 1881, 1991, 2002, 2112, 2222, 2332, 2442, 2552, 2662, 2772, 2882, 2992]\n"
          ]
        }
      ],
      "source": [
        "def find_palindromes(N):\n",
        "    palindromes = []\n",
        "    current_number = 1000\n",
        "    while (len(palindromes) != N):\n",
        "      if (check_palindrome(current_number)):\n",
        "        palindromes.append(current_number)\n",
        "      current_number += 1\n",
        "    return palindromes\n",
        "\n",
        "print(find_palindromes(5))\n",
        "print(find_palindromes(10))\n",
        "print(find_palindromes(20))"
      ]
    },
    {
      "cell_type": "markdown",
      "metadata": {
        "id": "Cw3lANyxIK14"
      },
      "source": [
        "**Task 4** (0.5 points) <br/> \n",
        "There are numbers: `a`, `b`, `c`. Without using functions `min`, `max` and other functions, find the minimum number."
      ]
    },
    {
      "cell_type": "code",
      "execution_count": 9,
      "metadata": {
        "colab": {
          "base_uri": "https://localhost:8080/"
        },
        "id": "JLH3AuZeIK14",
        "outputId": "27252258-3576-4f1b-ef36-b8aad2e692ce"
      },
      "outputs": [
        {
          "output_type": "stream",
          "name": "stdout",
          "text": [
            "-49 -89 72 \tMinimum: -89\n",
            "94 83 87 \tMinimum: 83\n",
            "-53 97 -18 \tMinimum: -53\n",
            "-85 -96 4 \tMinimum: -96\n",
            "-52 61 -22 \tMinimum: -52\n",
            "46 24 86 \tMinimum: 24\n",
            "22 -8 43 \tMinimum: -8\n",
            "80 27 -80 \tMinimum: -80\n",
            "76 2 -9 \tMinimum: -9\n",
            "-64 -51 95 \tMinimum: -64\n"
          ]
        }
      ],
      "source": [
        "from random import randint\n",
        "def find_min(a, b, c):\n",
        "    if (a < b):\n",
        "      if (a < c):\n",
        "        return a\n",
        "      else:\n",
        "        return c\n",
        "    else:\n",
        "      if (b < c):\n",
        "        return b\n",
        "      else:\n",
        "        return c\n",
        "\n",
        "for i in range(10):\n",
        "    \n",
        "    a = randint(-100, 100)\n",
        "    b = randint(-100, 100)\n",
        "    c = randint(-100, 100)\n",
        "    \n",
        "    print(a, b, c, '\\tMinimum:', find_min(a, b, c))"
      ]
    },
    {
      "cell_type": "markdown",
      "metadata": {
        "id": "bT2-v7peIK14"
      },
      "source": [
        "# 2. Numpy (4 points)"
      ]
    },
    {
      "cell_type": "markdown",
      "metadata": {
        "id": "EZLyKDJJIK15"
      },
      "source": [
        "**Task 1** (0.5 points) <br/>\n",
        "Create a random array (`np.random.rand()`) with length of 17 and with sum of its elements equals to 6."
      ]
    },
    {
      "cell_type": "code",
      "execution_count": 21,
      "metadata": {
        "colab": {
          "base_uri": "https://localhost:8080/"
        },
        "id": "ATZsBZDnIK15",
        "outputId": "a4db3ab7-9ad5-4b28-de94-315e4ffbff19"
      },
      "outputs": [
        {
          "output_type": "stream",
          "name": "stdout",
          "text": [
            "Length: 17\n",
            "Sum of elements: 6.0\n"
          ]
        }
      ],
      "source": [
        "target_length = 17\n",
        "target_sum = 6\n",
        "\n",
        "mapper = lambda x: x * target_sum\n",
        "\n",
        "my_array = mapper(np.random.dirichlet(np.ones(target_length), size = 1)[0])\n",
        "\n",
        "print(f'Length: {len(my_array)}')\n",
        "print(f'Sum of elements: {np.sum(my_array)}')"
      ]
    },
    {
      "cell_type": "markdown",
      "metadata": {
        "id": "zidQcw0OIK16"
      },
      "source": [
        "**Task 2** (0.5 points) <br/>\n",
        "Create two random arrays $a$ and $b$ with the same length. \n",
        "\n",
        "Calculate the following distances between the arrays **without using special funcrion. You may only use basic numpy operations (`np.linalg.*` and other high-level ones are prohibited).**:\n",
        "\n",
        "* Manhattan Distance\n",
        "$$ d(a, b) = \\sum_i |a_i - b_i| $$\n",
        "* Euclidean Distance\n",
        "$$ d(a, b) = \\sqrt{\\sum_i (a_i - b_i)^2} $$\n",
        "* Chebyshev Distance\n",
        "$$ d(a, b) = \\underset{i}{max} |a_i - b_i| $$\n",
        "* Cosine Distance\n",
        "$$ d(a, b) = 1 - \\frac{a^\\top b}{||a||_2\\cdot||b||_2} $$\n"
      ]
    },
    {
      "cell_type": "code",
      "execution_count": 67,
      "metadata": {
        "id": "zTtqqa1oIK16"
      },
      "outputs": [],
      "source": [
        "def calculate_manhattan(a, b):    \n",
        "    return abs((a - b).sum())\n",
        "\n",
        "def calculate_euclidean(a, b):    \n",
        "    return np.sqrt(((a - b) ** 2).sum())\n",
        "\n",
        "def calculate_chebyshev(a, b):    \n",
        "    return abs(a - b).max()\n",
        "\n",
        "def calculate_cosine(a, b):    \n",
        "    def magnitude(vector):\n",
        "      return np.sqrt(sum(pow(element, 2) for element in vector))\n",
        "\n",
        "\n",
        "    distance = np.matmul(np.transpose(a), b)\n",
        "    return 1 - distance / (magnitude(a) * magnitude(b))"
      ]
    },
    {
      "cell_type": "code",
      "execution_count": 68,
      "metadata": {
        "colab": {
          "base_uri": "https://localhost:8080/"
        },
        "id": "gvQ_fWF1IK16",
        "outputId": "c135735c-575b-4966-c995-44f9cdf3f35f"
      },
      "outputs": [
        {
          "output_type": "stream",
          "name": "stdout",
          "text": [
            "Manhattan distance: 113\n",
            "Euclidean distance: 193.60526852335397\n",
            "Chebyshev distance: 92\n",
            "Cosine distance: 0.2892549286046032\n"
          ]
        }
      ],
      "source": [
        "max_length = 30\n",
        "min_length = 3\n",
        "target_length = np.random.randint(max_length) + min_length\n",
        "\n",
        "\n",
        "def generate_array(length):\n",
        "  max_value = 100\n",
        "  return np.random.randint(max_value, size = length)\n",
        "\n",
        "\n",
        "a = generate_array(target_length)\n",
        "b = generate_array(target_length)\n",
        "print(f'Manhattan distance: {calculate_manhattan(a, b)}')\n",
        "print(f'Euclidean distance: {calculate_euclidean(a, b)}')\n",
        "print(f'Chebyshev distance: {calculate_chebyshev(a, b)}')\n",
        "print(f'Cosine distance: {calculate_cosine(a, b)}')"
      ]
    },
    {
      "cell_type": "markdown",
      "metadata": {
        "id": "Qy5ZS3tVIK17"
      },
      "source": [
        "**Task 3** (0.5 points) <br/>\n",
        "Create a random array (`np.random.randint()`) with length of 76. Transform the array so that \n",
        "* Maximum element(s) value is -1\n",
        "* Minimum element(s) value is -4\n",
        "* Other values are in interval (-4; -1) with keeping the order"
      ]
    },
    {
      "cell_type": "code",
      "execution_count": 84,
      "metadata": {
        "id": "loXnAk68IK17"
      },
      "outputs": [],
      "source": [
        "def transform(array):\n",
        "    target_min_value = -4\n",
        "    target_max_value = -1\n",
        "\n",
        "    current_min_value = array.min()\n",
        "    current_max_value = array.max()\n",
        "\n",
        "    transformed_array = array.copy()\n",
        "    np.place(\n",
        "        transformed_array, \n",
        "        transformed_array == current_min_value, \n",
        "        target_min_value\n",
        "    )\n",
        "    np.place(\n",
        "        transformed_array,\n",
        "        transformed_array == current_max_value,\n",
        "        target_max_value\n",
        "    )\n",
        "\n",
        "    def mapper(value):\n",
        "      if (value == target_min_value):\n",
        "        return target_min_value\n",
        "      if (value == target_max_value):\n",
        "        return target_max_value\n",
        "      \n",
        "      k = (value - current_min_value) / (current_max_value - current_min_value)\n",
        "      new_value = (target_max_value - target_min_value) * k + target_min_value\n",
        "      return new_value\n",
        "\n",
        "    func = np.vectorize(mapper)\n",
        "    return func(transformed_array)"
      ]
    },
    {
      "cell_type": "code",
      "execution_count": 85,
      "metadata": {
        "colab": {
          "base_uri": "https://localhost:8080/"
        },
        "id": "rMkKmhmXIK18",
        "outputId": "cf0b993c-94aa-4e45-c42a-a9bd154a8900"
      },
      "outputs": [
        {
          "output_type": "stream",
          "name": "stdout",
          "text": [
            "Min: -4.0\n",
            "Max: -1.0\n",
            "Array:\n",
            "[-1.91836735 -1.6122449  -3.63265306 -1.33673469 -2.46938776 -1.36734694\n",
            " -3.20408163 -2.25510204 -2.83673469 -3.81632653 -1.76530612 -2.65306122\n",
            " -3.35714286 -1.85714286 -2.86734694 -2.71428571 -3.90816327 -2.37755102\n",
            " -3.17346939 -2.13265306 -2.25510204 -1.21428571 -2.25510204 -1.21428571\n",
            " -2.74489796 -1.73469388 -3.20408163 -1.64285714 -1.18367347 -1.36734694\n",
            " -1.39795918 -2.7755102  -3.69387755 -3.63265306 -1.09183673 -2.34693878\n",
            " -2.74489796 -1.18367347 -3.23469388 -3.26530612 -1.97959184 -1.52040816\n",
            " -2.53061224 -1.18367347 -2.62244898 -2.68367347 -3.05102041 -2.59183673\n",
            " -1.03061224 -3.17346939 -3.08163265 -3.14285714 -3.57142857 -1.\n",
            " -2.68367347 -2.28571429 -2.89795918 -3.3877551  -2.56122449 -3.41836735\n",
            " -2.25510204 -1.06122449 -1.         -1.18367347 -1.67346939 -1.91836735\n",
            " -2.04081633 -3.54081633 -3.63265306 -1.64285714 -3.26530612 -3.17346939\n",
            " -1.33673469 -4.         -3.7244898  -2.62244898]\n"
          ]
        }
      ],
      "source": [
        "target_size = 76\n",
        "max_value = 100\n",
        "my_array = np.random.randint(max_value, size=target_size)\n",
        "my_array = transform(my_array)\n",
        "print(f'Min: {np.min(my_array)}')\n",
        "print(f'Max: {np.max(my_array)}')\n",
        "print('Array:')\n",
        "print(my_array)"
      ]
    },
    {
      "cell_type": "markdown",
      "metadata": {
        "id": "84k-KOmRIK18"
      },
      "source": [
        "**Task 4** (0.5 points) <br/>\n",
        "Create an array with shape of $8 \\times 5$ with integers from [-7, 43]. Print a column that contains the maximum element of the array."
      ]
    },
    {
      "cell_type": "code",
      "execution_count": 110,
      "metadata": {
        "colab": {
          "base_uri": "https://localhost:8080/"
        },
        "id": "WZnmOUlDIK18",
        "outputId": "9d4e6eb1-d307-4095-925e-cca110b715fa"
      },
      "outputs": [
        {
          "output_type": "stream",
          "name": "stdout",
          "text": [
            "Shape:  (5, 8)\n",
            "Array:\n",
            "[[42 18 12 -5 29  4 12 -3]\n",
            " [32 35 22 17  0 41 26 42]\n",
            " [13  6 10 32 12 36 25 29]\n",
            " [10 40 22 32 16 36 36 -1]\n",
            " [31 23 36 -4 -1  3 14  9]]\n",
            "Selected column: [[42]\n",
            " [42]\n",
            " [36]\n",
            " [40]\n",
            " [36]]\n"
          ]
        }
      ],
      "source": [
        "max_value = 43\n",
        "min_value = -7\n",
        "\n",
        "width = 8\n",
        "height = 5\n",
        "\n",
        "my_array = np.random.randint(max_value - min_value, size = (height, width)) + min_value\n",
        "matrix = np.asmatrix(my_array)\n",
        "selected_column = matrix.max(1)\n",
        "\n",
        "print('Shape: ', my_array.shape)\n",
        "print('Array:')\n",
        "print(my_array)\n",
        "print(f'Selected column: {selected_column}')"
      ]
    },
    {
      "cell_type": "markdown",
      "metadata": {
        "id": "yFs-DU_vIK19"
      },
      "source": [
        "**Task 5** (0.5 points) <br/>\n",
        "\n",
        "Replace all missing values in the following array with median."
      ]
    },
    {
      "cell_type": "code",
      "execution_count": 134,
      "metadata": {
        "colab": {
          "base_uri": "https://localhost:8080/"
        },
        "id": "tePEIv7OIK19",
        "outputId": "72b44b4e-2549-43bd-9a9c-c5450b2159a6"
      },
      "outputs": [
        {
          "output_type": "stream",
          "name": "stdout",
          "text": [
            "Array:\n",
            "[0.48990157 0.3317478  0.10255269 0.3317478  0.99314901 0.3317478\n",
            " 0.04820383 0.78625518 0.3317478  0.1530801 ]\n"
          ]
        }
      ],
      "source": [
        "arr = np.random.rand(10)\n",
        "idx = np.random.randint(0, 10, 4)\n",
        "arr[idx] = np.nan\n",
        "\n",
        "\n",
        "filter_arr = np.isnan(arr) == False\n",
        "median = np.median(arr[filter_arr])\n",
        "arr[idx] = median\n",
        "\n",
        "print('Array:')\n",
        "print(arr)"
      ]
    },
    {
      "cell_type": "markdown",
      "metadata": {
        "id": "FSBILrIZIK1-"
      },
      "source": [
        "**Task 6** (0.5 points) <br/>\n",
        "Create a function which takes an image ```X``` (3D array of the shape (n, m, 3)) as an input and returns the mean for all 3 channels (a vector of shape 3)."
      ]
    },
    {
      "cell_type": "code",
      "execution_count": 169,
      "metadata": {
        "id": "myY_S7wmIK1-"
      },
      "outputs": [],
      "source": [
        "def mean_channel(X):\n",
        "    return np.mean(X, axis = (0, 1))"
      ]
    },
    {
      "cell_type": "code",
      "execution_count": 170,
      "metadata": {
        "colab": {
          "base_uri": "https://localhost:8080/"
        },
        "id": "9eP0-_1oIK1-",
        "outputId": "2554fc93-b5fd-4390-f90f-a7080c083762"
      },
      "outputs": [
        {
          "output_type": "stream",
          "name": "stdout",
          "text": [
            "[-2.33638444 -1.71853547 -1.53318078]\n"
          ]
        }
      ],
      "source": [
        "n = 19\n",
        "m = 23\n",
        "X =  np.random.randint(-11, 8, size=(n, m, 3))\n",
        "print(mean_channel(X))"
      ]
    },
    {
      "cell_type": "markdown",
      "metadata": {
        "id": "81gjPwUkIK1-"
      },
      "source": [
        "### **Task 7** (1 points) <br/>\n",
        "Create a function which takes a 3D matrix ```X``` as an input and returns all its unique vertical (first axis) layers.\n",
        "\n",
        "Sample input:\n",
        "\n",
        "     ([[[1, 2, 3],\n",
        "        [1, 2, 3],\n",
        "        [1, 2, 3]],\n",
        "\n",
        "       [[4, 5, 6],\n",
        "        [4, 5, 7]\n",
        "        [4, 5, 6]],\n",
        "\n",
        "       [[7, 8, 9],\n",
        "        [7, 8, 9]\n",
        "        [7, 8, 9]]])\n",
        "        \n",
        "Sample output:\n",
        "\n",
        "     ([[[1, 2, 3],\n",
        "        [1, 2, 3]],\n",
        "\n",
        "       [[4, 5, 6],\n",
        "        [4, 5, 7]],\n",
        "\n",
        "       [[7, 8, 9],\n",
        "        [7, 8, 9]]])"
      ]
    },
    {
      "cell_type": "code",
      "execution_count": null,
      "metadata": {
        "id": "ojliifmDIK1_"
      },
      "outputs": [],
      "source": [
        "def get_unique_columns(X):\n",
        "    \n",
        "    return X_unique"
      ]
    },
    {
      "cell_type": "code",
      "execution_count": null,
      "metadata": {
        "id": "GpkbAOREIK1_"
      },
      "outputs": [],
      "source": [
        "X =  np.random.randint(4, 6, size=(n, 3, 3))\n",
        "print('Matrix:')\n",
        "print(X)\n",
        "print('Unique rows:')\n",
        "get_unique_rows(X)"
      ]
    },
    {
      "cell_type": "markdown",
      "metadata": {
        "id": "I43WWeBPIK2A"
      },
      "source": [
        "# 3. Pandas & Visualization (4 points)\n"
      ]
    },
    {
      "cell_type": "markdown",
      "metadata": {
        "id": "AW0q10RZIK2B"
      },
      "source": [
        "You are going to work with *Titanic* dataset which contains information about passengers of Titanic:\n",
        "- **Survived** - 1 - survived, 0 - died (0); **Target variable**\n",
        "- **pclass** - passengers's class;\n",
        "- **sex** - passengers's sex\n",
        "- **Age** - passengers's age in years\n",
        "- **sibsp**    - is the passenger someones siblings   \n",
        "- **parch**    - is the passenger someones child or parent\n",
        "- **ticket** - ticket number    \n",
        "- **fare** - ticket price    \n",
        "- **cabin** - cabin number\n",
        "- **embarked** - port of Embarkation; C = Cherbourg, Q = Queenstown, S = Southampton\n",
        "\n",
        "**Note** for all visualizations use matplotlib or seaborn but NOT plotly! Plotly's graphics sometimes vanish after saving. In this case the task wont't be graded.\n",
        "\n",
        "**Note** support all your answers with necessary code, computations, vizualization, and explanation. Answers without code and explanation won't be graded.\n",
        "\n",
        "**Task 0** (0 points) \\\n",
        "Load the dataset and print first 5 rows"
      ]
    },
    {
      "cell_type": "code",
      "execution_count": null,
      "metadata": {
        "id": "nsghgXv8IK2C"
      },
      "outputs": [],
      "source": [
        "dataset =  ## Your code here\n",
        "## Your code here"
      ]
    },
    {
      "cell_type": "markdown",
      "metadata": {
        "id": "vI6L9YmIIK2D"
      },
      "source": [
        "**Task 1** (1 points) <br/>\n",
        "Answer the following questions:\n",
        "    \n",
        "    * Are there any missing values? In what columns?\n",
        "    * What is the percentage of survived passengers? Are the classes balanced?\n",
        "    * Were there more males or females?\n",
        "    * What what the least popular port of embarkation?\n",
        "    * How many classes (pclass) were there on Tinanic?\n",
        "    * What is the overall average ticket fare? And for every class?\n",
        "Please, write not only the answers but the code, proving it."
      ]
    },
    {
      "cell_type": "code",
      "execution_count": null,
      "metadata": {
        "id": "7WNSv21wIK2E"
      },
      "outputs": [],
      "source": [
        "## Your code here"
      ]
    },
    {
      "cell_type": "markdown",
      "metadata": {
        "id": "8HS_wRchIK2E"
      },
      "source": [
        "**Task 2** (0.5 points) <br/>\n",
        "Visualize age distribution (you may use a histogram, for example). \n",
        "\n",
        "    * What is the minimal and maximum ages of the passengers? Visualize it on the plot\n",
        "    * What is the mean age? And among males and females sepatately? Visualize it on the plot\n",
        "    * Make conclusions about what you see on the plot"
      ]
    },
    {
      "cell_type": "code",
      "execution_count": null,
      "metadata": {
        "id": "RhYi0DxCIK2E"
      },
      "outputs": [],
      "source": [
        "## Your code here"
      ]
    },
    {
      "cell_type": "markdown",
      "metadata": {
        "id": "lv_56nJnIK2F"
      },
      "source": [
        "**Task 3** (1 points) <br/>\n",
        "Find all the titles of the passengers (example, *Capt., Mr.,Mme.*), which are written in the column Name, and answer the following questions:\n",
        "\n",
        "    * How many are there unique titles?\n",
        "    * How many are there passengers with every title?\n",
        "    * What is the most popular man's title? And woman's title?\n",
        "    \n",
        "**Hint** You may select the title from the name as a word which contains a dot."
      ]
    },
    {
      "cell_type": "code",
      "execution_count": null,
      "metadata": {
        "id": "GysKnDPoIK2F"
      },
      "outputs": [],
      "source": [
        "## Your code here"
      ]
    },
    {
      "cell_type": "markdown",
      "metadata": {
        "id": "9euQ8eYTIK2G"
      },
      "source": [
        "**Task 4** (0.5 points) <br/>\n",
        "Is there correlation between *pclass* and *ticket price*? Calculate mean price for each port and visualize prize distribution for each port. Make conclusions about what you see on the plot\n",
        "\n",
        "Hint: you could make one or several plot types i.e.  box, violine, pair, histogram (see additional notebooks for Seminar 1 \"Visualization with Seaborn\"). main point here is to **choose** plots wisely and **make meaningful conclusions**\n",
        "\n"
      ]
    },
    {
      "cell_type": "code",
      "execution_count": null,
      "metadata": {
        "id": "tUr7fkmhIK2G"
      },
      "outputs": [],
      "source": [
        "## You code here"
      ]
    },
    {
      "cell_type": "markdown",
      "metadata": {
        "id": "QS2u6wDjIK2H"
      },
      "source": [
        "**Task 5** (0.5 points) <br/>\n",
        "The same question as in task 4 about correlation between *embarked* and *ticket priсe*."
      ]
    },
    {
      "cell_type": "code",
      "execution_count": null,
      "metadata": {
        "id": "O7DL3lXCIK2H"
      },
      "outputs": [],
      "source": [
        "## You code here"
      ]
    },
    {
      "cell_type": "markdown",
      "metadata": {
        "id": "xf6eQO5sIK2H"
      },
      "source": [
        "**Task 6** (0.5 points) <br/>\n",
        "Visualize age distribution for survived and not survived passengers separately and calculate the mean age for each class. Are they different? Provide the same visualization for males and females separately. Make conclusions about what you see on the plots"
      ]
    },
    {
      "cell_type": "code",
      "execution_count": null,
      "metadata": {
        "id": "BshCS0kqIK2H"
      },
      "outputs": [],
      "source": [
        "## You code here"
      ]
    }
  ],
  "metadata": {
    "kernelspec": {
      "display_name": "Python 3 (ipykernel)",
      "language": "python",
      "name": "python3"
    },
    "language_info": {
      "codemirror_mode": {
        "name": "ipython",
        "version": 3
      },
      "file_extension": ".py",
      "mimetype": "text/x-python",
      "name": "python",
      "nbconvert_exporter": "python",
      "pygments_lexer": "ipython3",
      "version": "3.9.7"
    },
    "colab": {
      "provenance": [],
      "collapsed_sections": [
        "SA7lrcqlIK10"
      ],
      "toc_visible": true
    }
  },
  "nbformat": 4,
  "nbformat_minor": 0
}